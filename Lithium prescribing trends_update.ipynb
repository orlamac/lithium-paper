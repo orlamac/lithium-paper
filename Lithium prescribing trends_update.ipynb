{
 "cells": [
  {
   "cell_type": "markdown",
   "metadata": {},
   "source": [
    "# Lithium prescribing trends in England. \n",
    "\n",
    "## **Background and Rationale**\n",
    "For over 60 years lithium has been the gold standard for the treatment and prevention of relapse in bipolar disorder.  In recent years, published literature has confirmed the superiority of lithium in this field, including two meta-analysis of RCTs (Severus et al. 2014, Miura et al. 2014) and one of observational studies (Kessing et al 2018).  Yet in various countries, authors have described a decline in lithium use (Karanti et al. 2016), including in the UK (Hayes et al. 2011, Lyall et al. 2019) \n",
    "\n",
    "We wish to describe long term lithium prescribing trends in England.  Previous authors have reported regional variations in lithium use across the country (POMH Lithium report, 2008). We would like to explore these national variations in use, to further understand trends in lithium prescribing in the UK. \n",
    "\n",
    "## **Proposed project**\n",
    "### Title:  \n",
    "Lithium prescribing trends\n",
    "### Description:  \n",
    "* Total number of items of lithium carbonate and lithium citrate dispensed per year from 1995 to 2018\n",
    "* Total number of non-GP v GP items of lithium carbonate and lithium citrate dispensed per year\n",
    "* Number of items of lithium carbonate per 1000 patient population for each CCG\n",
    "* Number of items of lithium citrate per 1000 patient population for each CCG\n",
    "* Number of items of non-GP v GP prescriptions for lithium carbonate for each region\n",
    "* Number of items of non-GP v GP prescriptions for lithium citrate for each region\n",
    "\n"
   ]
  },
  {
   "cell_type": "code",
   "execution_count": 3,
   "metadata": {},
   "outputs": [],
   "source": [
    "#import libraries required for analysis\n",
    "import pandas as pd\n",
    "import numpy as np\n",
    "import matplotlib\n",
    "import matplotlib.pyplot as plt\n",
    "import matplotlib.gridspec as gridspec\n",
    "import seaborn as sns\n",
    "\n",
    "from matplotlib.dates import DateFormatter\n",
    "from ebmdatalab import bq\n",
    "from ebmdatalab import charts\n",
    "from ebmdatalab import maps\n",
    "import matplotlib.gridspec as gridspec"
   ]
  },
  {
   "cell_type": "code",
   "execution_count": 2,
   "metadata": {},
   "outputs": [],
   "source": [
    "sql = \"\"\"\n",
    "WITH\n",
    "bnf_tab AS (\n",
    "SELECT\n",
    "DISTINCT chemical,\n",
    "chemical_code\n",
    "FROM\n",
    "ebmdatalab.hscic.bnf )\n",
    "SELECT\n",
    "rx.month,\n",
    "rx.practice,\n",
    "rx.pct,\n",
    "SUBSTR(rx.bnf_code,1,9) AS chemical_code,\n",
    "chemical,\n",
    "sum(IF(rx.bnf_code LIKE \"0402030K0%\", items,0)) AS carbonate,\n",
    "sum(IF(rx.bnf_code LIKE \"0402030P0%\", items,0)) AS citrate,\n",
    "sum(items) AS total_lithium,\n",
    "sum(actual_cost) AS total_cost\n",
    "FROM\n",
    "hscic.normalised_prescribing_standard AS rx\n",
    "LEFT JOIN\n",
    "bnf_tab\n",
    "ON\n",
    "chemical_code =SUBSTR(rx.bnf_code,1,9)\n",
    "JOIN\n",
    "hscic.practices AS prac\n",
    "ON\n",
    "rx.practice = prac.code \n",
    "JOIN\n",
    "  hscic.ccgs AS ccgs\n",
    "ON\n",
    "rx.pct=ccgs.code\n",
    "WHERE\n",
    "  prac.setting = 4\n",
    "  AND (bnf_code LIKE \"0402030K0%\" OR ##carbonate\n",
    "  bnf_code LIKE \"0402030P0%\") ##citrate\n",
    "  AND\n",
    "ccgs.org_type='CCG'\n",
    "GROUP BY\n",
    "rx.month,\n",
    "rx.practice,\n",
    "rx.pct,\n",
    "chemical_code,\n",
    "chemical\n",
    "ORDER BY\n",
    "month\"\"\"\n",
    "\n",
    "df_lithium = bq.cached_read(sql, csv_path='lithium.csv')"
   ]
  },
  {
   "cell_type": "code",
   "execution_count": 3,
   "metadata": {},
   "outputs": [
    {
     "data": {
      "text/html": [
       "<div>\n",
       "<style scoped>\n",
       "    .dataframe tbody tr th:only-of-type {\n",
       "        vertical-align: middle;\n",
       "    }\n",
       "\n",
       "    .dataframe tbody tr th {\n",
       "        vertical-align: top;\n",
       "    }\n",
       "\n",
       "    .dataframe thead th {\n",
       "        text-align: right;\n",
       "    }\n",
       "</style>\n",
       "<table border=\"1\" class=\"dataframe\">\n",
       "  <thead>\n",
       "    <tr style=\"text-align: right;\">\n",
       "      <th></th>\n",
       "      <th>month</th>\n",
       "      <th>practice</th>\n",
       "      <th>pct</th>\n",
       "      <th>chemical_code</th>\n",
       "      <th>chemical</th>\n",
       "      <th>carbonate</th>\n",
       "      <th>citrate</th>\n",
       "      <th>total_lithium</th>\n",
       "      <th>total_cost</th>\n",
       "    </tr>\n",
       "  </thead>\n",
       "  <tbody>\n",
       "    <tr>\n",
       "      <th>0</th>\n",
       "      <td>2010-08-01</td>\n",
       "      <td>H81019</td>\n",
       "      <td>09Y</td>\n",
       "      <td>0402030K0</td>\n",
       "      <td>Lithium Carbonate</td>\n",
       "      <td>7</td>\n",
       "      <td>0</td>\n",
       "      <td>7</td>\n",
       "      <td>27.23</td>\n",
       "    </tr>\n",
       "    <tr>\n",
       "      <th>1</th>\n",
       "      <td>2010-08-01</td>\n",
       "      <td>G81029</td>\n",
       "      <td>09F</td>\n",
       "      <td>0402030K0</td>\n",
       "      <td>Lithium Carbonate</td>\n",
       "      <td>25</td>\n",
       "      <td>0</td>\n",
       "      <td>25</td>\n",
       "      <td>46.04</td>\n",
       "    </tr>\n",
       "    <tr>\n",
       "      <th>2</th>\n",
       "      <td>2010-08-01</td>\n",
       "      <td>B81077</td>\n",
       "      <td>03H</td>\n",
       "      <td>0402030K0</td>\n",
       "      <td>Lithium Carbonate</td>\n",
       "      <td>5</td>\n",
       "      <td>0</td>\n",
       "      <td>5</td>\n",
       "      <td>7.97</td>\n",
       "    </tr>\n",
       "    <tr>\n",
       "      <th>3</th>\n",
       "      <td>2010-08-01</td>\n",
       "      <td>F85063</td>\n",
       "      <td>08D</td>\n",
       "      <td>0402030K0</td>\n",
       "      <td>Lithium Carbonate</td>\n",
       "      <td>12</td>\n",
       "      <td>0</td>\n",
       "      <td>12</td>\n",
       "      <td>40.90</td>\n",
       "    </tr>\n",
       "    <tr>\n",
       "      <th>4</th>\n",
       "      <td>2010-08-01</td>\n",
       "      <td>H85053</td>\n",
       "      <td>08T</td>\n",
       "      <td>0402030K0</td>\n",
       "      <td>Lithium Carbonate</td>\n",
       "      <td>8</td>\n",
       "      <td>0</td>\n",
       "      <td>8</td>\n",
       "      <td>2.73</td>\n",
       "    </tr>\n",
       "  </tbody>\n",
       "</table>\n",
       "</div>"
      ],
      "text/plain": [
       "       month practice  pct chemical_code           chemical  carbonate  \\\n",
       "0 2010-08-01   H81019  09Y     0402030K0  Lithium Carbonate          7   \n",
       "1 2010-08-01   G81029  09F     0402030K0  Lithium Carbonate         25   \n",
       "2 2010-08-01   B81077  03H     0402030K0  Lithium Carbonate          5   \n",
       "3 2010-08-01   F85063  08D     0402030K0  Lithium Carbonate         12   \n",
       "4 2010-08-01   H85053  08T     0402030K0  Lithium Carbonate          8   \n",
       "\n",
       "   citrate  total_lithium  total_cost  \n",
       "0        0              7       27.23  \n",
       "1        0             25       46.04  \n",
       "2        0              5        7.97  \n",
       "3        0             12       40.90  \n",
       "4        0              8        2.73  "
      ]
     },
     "execution_count": 3,
     "metadata": {},
     "output_type": "execute_result"
    }
   ],
   "source": [
    "df_lithium['month'] = df_lithium['month'].astype('datetime64[ns]')\n",
    "df_lithium.head()"
   ]
  },
  {
   "cell_type": "code",
   "execution_count": 4,
   "metadata": {},
   "outputs": [
    {
     "data": {
      "text/plain": [
       "array(['Lithium Carbonate', 'Lithium Citrate'], dtype=object)"
      ]
     },
     "execution_count": 4,
     "metadata": {},
     "output_type": "execute_result"
    }
   ],
   "source": [
    "df_lithium[\"chemical\"].unique()#shows me the unique values within the chemical column"
   ]
  },
  {
   "cell_type": "code",
   "execution_count": 5,
   "metadata": {},
   "outputs": [
    {
     "data": {
      "text/plain": [
       "month               110\n",
       "practice           8022\n",
       "pct                 191\n",
       "chemical_code         2\n",
       "chemical              2\n",
       "carbonate           136\n",
       "citrate              35\n",
       "total_lithium       135\n",
       "total_cost       190699\n",
       "dtype: int64"
      ]
     },
     "execution_count": 5,
     "metadata": {},
     "output_type": "execute_result"
    }
   ],
   "source": [
    "df_lithium.nunique()#counts the number of unique items in each column.  "
   ]
  },
  {
   "cell_type": "code",
   "execution_count": 6,
   "metadata": {},
   "outputs": [
    {
     "data": {
      "text/html": [
       "<div>\n",
       "<style scoped>\n",
       "    .dataframe tbody tr th:only-of-type {\n",
       "        vertical-align: middle;\n",
       "    }\n",
       "\n",
       "    .dataframe tbody tr th {\n",
       "        vertical-align: top;\n",
       "    }\n",
       "\n",
       "    .dataframe thead th {\n",
       "        text-align: right;\n",
       "    }\n",
       "</style>\n",
       "<table border=\"1\" class=\"dataframe\">\n",
       "  <thead>\n",
       "    <tr style=\"text-align: right;\">\n",
       "      <th></th>\n",
       "      <th>month</th>\n",
       "      <th>practice</th>\n",
       "      <th>pct</th>\n",
       "      <th>chemical_code</th>\n",
       "      <th>chemical</th>\n",
       "      <th>carbonate</th>\n",
       "      <th>citrate</th>\n",
       "      <th>total_lithium</th>\n",
       "      <th>total_cost</th>\n",
       "    </tr>\n",
       "  </thead>\n",
       "  <tbody>\n",
       "    <tr>\n",
       "      <th>0</th>\n",
       "      <td>2010-08-01</td>\n",
       "      <td>H81019</td>\n",
       "      <td>09Y</td>\n",
       "      <td>0402030K0</td>\n",
       "      <td>Lithium Carbonate</td>\n",
       "      <td>7</td>\n",
       "      <td>0</td>\n",
       "      <td>7</td>\n",
       "      <td>27.23</td>\n",
       "    </tr>\n",
       "    <tr>\n",
       "      <th>1</th>\n",
       "      <td>2010-08-01</td>\n",
       "      <td>G81029</td>\n",
       "      <td>09F</td>\n",
       "      <td>0402030K0</td>\n",
       "      <td>Lithium Carbonate</td>\n",
       "      <td>25</td>\n",
       "      <td>0</td>\n",
       "      <td>25</td>\n",
       "      <td>46.04</td>\n",
       "    </tr>\n",
       "    <tr>\n",
       "      <th>2</th>\n",
       "      <td>2010-08-01</td>\n",
       "      <td>B81077</td>\n",
       "      <td>03H</td>\n",
       "      <td>0402030K0</td>\n",
       "      <td>Lithium Carbonate</td>\n",
       "      <td>5</td>\n",
       "      <td>0</td>\n",
       "      <td>5</td>\n",
       "      <td>7.97</td>\n",
       "    </tr>\n",
       "    <tr>\n",
       "      <th>3</th>\n",
       "      <td>2010-08-01</td>\n",
       "      <td>F85063</td>\n",
       "      <td>08D</td>\n",
       "      <td>0402030K0</td>\n",
       "      <td>Lithium Carbonate</td>\n",
       "      <td>12</td>\n",
       "      <td>0</td>\n",
       "      <td>12</td>\n",
       "      <td>40.90</td>\n",
       "    </tr>\n",
       "    <tr>\n",
       "      <th>4</th>\n",
       "      <td>2010-08-01</td>\n",
       "      <td>H85053</td>\n",
       "      <td>08T</td>\n",
       "      <td>0402030K0</td>\n",
       "      <td>Lithium Carbonate</td>\n",
       "      <td>8</td>\n",
       "      <td>0</td>\n",
       "      <td>8</td>\n",
       "      <td>2.73</td>\n",
       "    </tr>\n",
       "  </tbody>\n",
       "</table>\n",
       "</div>"
      ],
      "text/plain": [
       "       month practice  pct chemical_code           chemical  carbonate  \\\n",
       "0 2010-08-01   H81019  09Y     0402030K0  Lithium Carbonate          7   \n",
       "1 2010-08-01   G81029  09F     0402030K0  Lithium Carbonate         25   \n",
       "2 2010-08-01   B81077  03H     0402030K0  Lithium Carbonate          5   \n",
       "3 2010-08-01   F85063  08D     0402030K0  Lithium Carbonate         12   \n",
       "4 2010-08-01   H85053  08T     0402030K0  Lithium Carbonate          8   \n",
       "\n",
       "   citrate  total_lithium  total_cost  \n",
       "0        0              7       27.23  \n",
       "1        0             25       46.04  \n",
       "2        0              5        7.97  \n",
       "3        0             12       40.90  \n",
       "4        0              8        2.73  "
      ]
     },
     "execution_count": 6,
     "metadata": {},
     "output_type": "execute_result"
    }
   ],
   "source": [
    "df_carbonate = df_lithium.loc[df_lithium[\"chemical\"] == \"Lithium Carbonate\"]\n",
    "df_carbonate.head()#shows me the data for Lithium Carbonate"
   ]
  },
  {
   "cell_type": "code",
   "execution_count": 7,
   "metadata": {},
   "outputs": [
    {
     "data": {
      "text/plain": [
       "month               110\n",
       "practice           8019\n",
       "pct                 191\n",
       "chemical_code         1\n",
       "chemical              1\n",
       "carbonate           135\n",
       "citrate               1\n",
       "total_lithium       135\n",
       "total_cost       186539\n",
       "dtype: int64"
      ]
     },
     "execution_count": 7,
     "metadata": {},
     "output_type": "execute_result"
    }
   ],
   "source": [
    "df_carbonate.nunique()"
   ]
  },
  {
   "cell_type": "code",
   "execution_count": 8,
   "metadata": {
    "scrolled": true
   },
   "outputs": [
    {
     "data": {
      "text/html": [
       "<div>\n",
       "<style scoped>\n",
       "    .dataframe tbody tr th:only-of-type {\n",
       "        vertical-align: middle;\n",
       "    }\n",
       "\n",
       "    .dataframe tbody tr th {\n",
       "        vertical-align: top;\n",
       "    }\n",
       "\n",
       "    .dataframe thead th {\n",
       "        text-align: right;\n",
       "    }\n",
       "</style>\n",
       "<table border=\"1\" class=\"dataframe\">\n",
       "  <thead>\n",
       "    <tr style=\"text-align: right;\">\n",
       "      <th></th>\n",
       "      <th>carbonate</th>\n",
       "      <th>citrate</th>\n",
       "      <th>total_lithium</th>\n",
       "      <th>total_cost</th>\n",
       "    </tr>\n",
       "  </thead>\n",
       "  <tbody>\n",
       "    <tr>\n",
       "      <th>count</th>\n",
       "      <td>750370.000000</td>\n",
       "      <td>750370.0</td>\n",
       "      <td>750370.000000</td>\n",
       "      <td>750370.000000</td>\n",
       "    </tr>\n",
       "    <tr>\n",
       "      <th>mean</th>\n",
       "      <td>10.508155</td>\n",
       "      <td>0.0</td>\n",
       "      <td>10.508155</td>\n",
       "      <td>17.857388</td>\n",
       "    </tr>\n",
       "    <tr>\n",
       "      <th>std</th>\n",
       "      <td>10.033071</td>\n",
       "      <td>0.0</td>\n",
       "      <td>10.033071</td>\n",
       "      <td>25.709286</td>\n",
       "    </tr>\n",
       "    <tr>\n",
       "      <th>min</th>\n",
       "      <td>1.000000</td>\n",
       "      <td>0.0</td>\n",
       "      <td>1.000000</td>\n",
       "      <td>0.060000</td>\n",
       "    </tr>\n",
       "    <tr>\n",
       "      <th>25%</th>\n",
       "      <td>4.000000</td>\n",
       "      <td>0.0</td>\n",
       "      <td>4.000000</td>\n",
       "      <td>5.310000</td>\n",
       "    </tr>\n",
       "    <tr>\n",
       "      <th>50%</th>\n",
       "      <td>8.000000</td>\n",
       "      <td>0.0</td>\n",
       "      <td>8.000000</td>\n",
       "      <td>10.990000</td>\n",
       "    </tr>\n",
       "    <tr>\n",
       "      <th>75%</th>\n",
       "      <td>14.000000</td>\n",
       "      <td>0.0</td>\n",
       "      <td>14.000000</td>\n",
       "      <td>20.480000</td>\n",
       "    </tr>\n",
       "    <tr>\n",
       "      <th>max</th>\n",
       "      <td>162.000000</td>\n",
       "      <td>0.0</td>\n",
       "      <td>162.000000</td>\n",
       "      <td>1734.052160</td>\n",
       "    </tr>\n",
       "  </tbody>\n",
       "</table>\n",
       "</div>"
      ],
      "text/plain": [
       "           carbonate   citrate  total_lithium     total_cost\n",
       "count  750370.000000  750370.0  750370.000000  750370.000000\n",
       "mean       10.508155       0.0      10.508155      17.857388\n",
       "std        10.033071       0.0      10.033071      25.709286\n",
       "min         1.000000       0.0       1.000000       0.060000\n",
       "25%         4.000000       0.0       4.000000       5.310000\n",
       "50%         8.000000       0.0       8.000000      10.990000\n",
       "75%        14.000000       0.0      14.000000      20.480000\n",
       "max       162.000000       0.0     162.000000    1734.052160"
      ]
     },
     "execution_count": 8,
     "metadata": {},
     "output_type": "execute_result"
    }
   ],
   "source": [
    "df_carbonate.describe()"
   ]
  },
  {
   "cell_type": "code",
   "execution_count": 9,
   "metadata": {
    "scrolled": true
   },
   "outputs": [
    {
     "data": {
      "text/html": [
       "<div>\n",
       "<style scoped>\n",
       "    .dataframe tbody tr th:only-of-type {\n",
       "        vertical-align: middle;\n",
       "    }\n",
       "\n",
       "    .dataframe tbody tr th {\n",
       "        vertical-align: top;\n",
       "    }\n",
       "\n",
       "    .dataframe thead th {\n",
       "        text-align: right;\n",
       "    }\n",
       "</style>\n",
       "<table border=\"1\" class=\"dataframe\">\n",
       "  <thead>\n",
       "    <tr style=\"text-align: right;\">\n",
       "      <th></th>\n",
       "      <th>month</th>\n",
       "      <th>practice</th>\n",
       "      <th>pct</th>\n",
       "      <th>chemical_code</th>\n",
       "      <th>chemical</th>\n",
       "      <th>carbonate</th>\n",
       "      <th>citrate</th>\n",
       "      <th>total_lithium</th>\n",
       "      <th>total_cost</th>\n",
       "    </tr>\n",
       "  </thead>\n",
       "  <tbody>\n",
       "    <tr>\n",
       "      <th>79</th>\n",
       "      <td>2010-08-01</td>\n",
       "      <td>C84605</td>\n",
       "      <td>04N</td>\n",
       "      <td>0402030P0</td>\n",
       "      <td>Lithium Citrate</td>\n",
       "      <td>0</td>\n",
       "      <td>1</td>\n",
       "      <td>1</td>\n",
       "      <td>5.36</td>\n",
       "    </tr>\n",
       "    <tr>\n",
       "      <th>90</th>\n",
       "      <td>2010-08-01</td>\n",
       "      <td>P81103</td>\n",
       "      <td>01E</td>\n",
       "      <td>0402030P0</td>\n",
       "      <td>Lithium Citrate</td>\n",
       "      <td>0</td>\n",
       "      <td>2</td>\n",
       "      <td>2</td>\n",
       "      <td>26.39</td>\n",
       "    </tr>\n",
       "    <tr>\n",
       "      <th>100</th>\n",
       "      <td>2010-08-01</td>\n",
       "      <td>G83001</td>\n",
       "      <td>08A</td>\n",
       "      <td>0402030P0</td>\n",
       "      <td>Lithium Citrate</td>\n",
       "      <td>0</td>\n",
       "      <td>1</td>\n",
       "      <td>1</td>\n",
       "      <td>42.66</td>\n",
       "    </tr>\n",
       "    <tr>\n",
       "      <th>111</th>\n",
       "      <td>2010-08-01</td>\n",
       "      <td>C88079</td>\n",
       "      <td>03N</td>\n",
       "      <td>0402030P0</td>\n",
       "      <td>Lithium Citrate</td>\n",
       "      <td>0</td>\n",
       "      <td>1</td>\n",
       "      <td>1</td>\n",
       "      <td>10.36</td>\n",
       "    </tr>\n",
       "    <tr>\n",
       "      <th>127</th>\n",
       "      <td>2010-08-01</td>\n",
       "      <td>N81046</td>\n",
       "      <td>02F</td>\n",
       "      <td>0402030P0</td>\n",
       "      <td>Lithium Citrate</td>\n",
       "      <td>0</td>\n",
       "      <td>2</td>\n",
       "      <td>2</td>\n",
       "      <td>44.80</td>\n",
       "    </tr>\n",
       "  </tbody>\n",
       "</table>\n",
       "</div>"
      ],
      "text/plain": [
       "         month practice  pct chemical_code         chemical  carbonate  \\\n",
       "79  2010-08-01   C84605  04N     0402030P0  Lithium Citrate          0   \n",
       "90  2010-08-01   P81103  01E     0402030P0  Lithium Citrate          0   \n",
       "100 2010-08-01   G83001  08A     0402030P0  Lithium Citrate          0   \n",
       "111 2010-08-01   C88079  03N     0402030P0  Lithium Citrate          0   \n",
       "127 2010-08-01   N81046  02F     0402030P0  Lithium Citrate          0   \n",
       "\n",
       "     citrate  total_lithium  total_cost  \n",
       "79         1              1        5.36  \n",
       "90         2              2       26.39  \n",
       "100        1              1       42.66  \n",
       "111        1              1       10.36  \n",
       "127        2              2       44.80  "
      ]
     },
     "execution_count": 9,
     "metadata": {},
     "output_type": "execute_result"
    }
   ],
   "source": [
    "df_citrate = df_lithium.loc[df_lithium[\"chemical\"] == \"Lithium Citrate\"]\n",
    "df_citrate.head()#shows me the data for Lithium Citrate"
   ]
  },
  {
   "cell_type": "code",
   "execution_count": 10,
   "metadata": {},
   "outputs": [
    {
     "data": {
      "text/plain": [
       "month             110\n",
       "practice         2881\n",
       "pct               191\n",
       "chemical_code       1\n",
       "chemical            1\n",
       "carbonate           1\n",
       "citrate            34\n",
       "total_lithium      34\n",
       "total_cost       7713\n",
       "dtype: int64"
      ]
     },
     "execution_count": 10,
     "metadata": {},
     "output_type": "execute_result"
    }
   ],
   "source": [
    "df_citrate.nunique()"
   ]
  },
  {
   "cell_type": "code",
   "execution_count": 11,
   "metadata": {},
   "outputs": [
    {
     "data": {
      "text/html": [
       "<div>\n",
       "<style scoped>\n",
       "    .dataframe tbody tr th:only-of-type {\n",
       "        vertical-align: middle;\n",
       "    }\n",
       "\n",
       "    .dataframe tbody tr th {\n",
       "        vertical-align: top;\n",
       "    }\n",
       "\n",
       "    .dataframe thead th {\n",
       "        text-align: right;\n",
       "    }\n",
       "</style>\n",
       "<table border=\"1\" class=\"dataframe\">\n",
       "  <thead>\n",
       "    <tr style=\"text-align: right;\">\n",
       "      <th></th>\n",
       "      <th>carbonate</th>\n",
       "      <th>citrate</th>\n",
       "      <th>total_lithium</th>\n",
       "      <th>total_cost</th>\n",
       "    </tr>\n",
       "  </thead>\n",
       "  <tbody>\n",
       "    <tr>\n",
       "      <th>count</th>\n",
       "      <td>55641.0</td>\n",
       "      <td>55641.000000</td>\n",
       "      <td>55641.000000</td>\n",
       "      <td>55641.000000</td>\n",
       "    </tr>\n",
       "    <tr>\n",
       "      <th>mean</th>\n",
       "      <td>0.0</td>\n",
       "      <td>1.441132</td>\n",
       "      <td>1.441132</td>\n",
       "      <td>20.189354</td>\n",
       "    </tr>\n",
       "    <tr>\n",
       "      <th>std</th>\n",
       "      <td>0.0</td>\n",
       "      <td>1.292081</td>\n",
       "      <td>1.292081</td>\n",
       "      <td>16.424283</td>\n",
       "    </tr>\n",
       "    <tr>\n",
       "      <th>min</th>\n",
       "      <td>0.0</td>\n",
       "      <td>1.000000</td>\n",
       "      <td>1.000000</td>\n",
       "      <td>0.176270</td>\n",
       "    </tr>\n",
       "    <tr>\n",
       "      <th>25%</th>\n",
       "      <td>0.0</td>\n",
       "      <td>1.000000</td>\n",
       "      <td>1.000000</td>\n",
       "      <td>10.380000</td>\n",
       "    </tr>\n",
       "    <tr>\n",
       "      <th>50%</th>\n",
       "      <td>0.0</td>\n",
       "      <td>1.000000</td>\n",
       "      <td>1.000000</td>\n",
       "      <td>16.101890</td>\n",
       "    </tr>\n",
       "    <tr>\n",
       "      <th>75%</th>\n",
       "      <td>0.0</td>\n",
       "      <td>2.000000</td>\n",
       "      <td>2.000000</td>\n",
       "      <td>24.993740</td>\n",
       "    </tr>\n",
       "    <tr>\n",
       "      <th>max</th>\n",
       "      <td>0.0</td>\n",
       "      <td>43.000000</td>\n",
       "      <td>43.000000</td>\n",
       "      <td>660.744000</td>\n",
       "    </tr>\n",
       "  </tbody>\n",
       "</table>\n",
       "</div>"
      ],
      "text/plain": [
       "       carbonate       citrate  total_lithium    total_cost\n",
       "count    55641.0  55641.000000   55641.000000  55641.000000\n",
       "mean         0.0      1.441132       1.441132     20.189354\n",
       "std          0.0      1.292081       1.292081     16.424283\n",
       "min          0.0      1.000000       1.000000      0.176270\n",
       "25%          0.0      1.000000       1.000000     10.380000\n",
       "50%          0.0      1.000000       1.000000     16.101890\n",
       "75%          0.0      2.000000       2.000000     24.993740\n",
       "max          0.0     43.000000      43.000000    660.744000"
      ]
     },
     "execution_count": 11,
     "metadata": {},
     "output_type": "execute_result"
    }
   ],
   "source": [
    "df_citrate.describe()"
   ]
  },
  {
   "cell_type": "code",
   "execution_count": 12,
   "metadata": {},
   "outputs": [
    {
     "data": {
      "text/html": [
       "<div>\n",
       "<style scoped>\n",
       "    .dataframe tbody tr th:only-of-type {\n",
       "        vertical-align: middle;\n",
       "    }\n",
       "\n",
       "    .dataframe tbody tr th {\n",
       "        vertical-align: top;\n",
       "    }\n",
       "\n",
       "    .dataframe thead th {\n",
       "        text-align: right;\n",
       "    }\n",
       "</style>\n",
       "<table border=\"1\" class=\"dataframe\">\n",
       "  <thead>\n",
       "    <tr style=\"text-align: right;\">\n",
       "      <th></th>\n",
       "      <th>pct</th>\n",
       "      <th>month</th>\n",
       "      <th>carbonate</th>\n",
       "      <th>citrate</th>\n",
       "      <th>total_lithium</th>\n",
       "      <th>total_cost</th>\n",
       "    </tr>\n",
       "  </thead>\n",
       "  <tbody>\n",
       "    <tr>\n",
       "      <th>0</th>\n",
       "      <td>00C</td>\n",
       "      <td>2010-08-01</td>\n",
       "      <td>329</td>\n",
       "      <td>4</td>\n",
       "      <td>333</td>\n",
       "      <td>285.47</td>\n",
       "    </tr>\n",
       "    <tr>\n",
       "      <th>1</th>\n",
       "      <td>00C</td>\n",
       "      <td>2010-09-01</td>\n",
       "      <td>354</td>\n",
       "      <td>1</td>\n",
       "      <td>355</td>\n",
       "      <td>257.35</td>\n",
       "    </tr>\n",
       "    <tr>\n",
       "      <th>2</th>\n",
       "      <td>00C</td>\n",
       "      <td>2010-10-01</td>\n",
       "      <td>315</td>\n",
       "      <td>5</td>\n",
       "      <td>320</td>\n",
       "      <td>282.27</td>\n",
       "    </tr>\n",
       "    <tr>\n",
       "      <th>3</th>\n",
       "      <td>00C</td>\n",
       "      <td>2010-11-01</td>\n",
       "      <td>302</td>\n",
       "      <td>1</td>\n",
       "      <td>303</td>\n",
       "      <td>238.85</td>\n",
       "    </tr>\n",
       "    <tr>\n",
       "      <th>4</th>\n",
       "      <td>00C</td>\n",
       "      <td>2010-12-01</td>\n",
       "      <td>325</td>\n",
       "      <td>4</td>\n",
       "      <td>329</td>\n",
       "      <td>275.83</td>\n",
       "    </tr>\n",
       "  </tbody>\n",
       "</table>\n",
       "</div>"
      ],
      "text/plain": [
       "   pct      month  carbonate  citrate  total_lithium  total_cost\n",
       "0  00C 2010-08-01        329        4            333      285.47\n",
       "1  00C 2010-09-01        354        1            355      257.35\n",
       "2  00C 2010-10-01        315        5            320      282.27\n",
       "3  00C 2010-11-01        302        1            303      238.85\n",
       "4  00C 2010-12-01        325        4            329      275.83"
      ]
     },
     "execution_count": 12,
     "metadata": {},
     "output_type": "execute_result"
    }
   ],
   "source": [
    "ccg_lithium_totalcount = df_lithium.groupby([\"pct\", \"month\"], as_index=False).sum()\n",
    "ccg_lithium_totalcount.head()#shows me the data grouped by PCT, therefore representing CCGs"
   ]
  },
  {
   "cell_type": "code",
   "execution_count": 13,
   "metadata": {},
   "outputs": [
    {
     "data": {
      "text/html": [
       "<div>\n",
       "<style scoped>\n",
       "    .dataframe tbody tr th:only-of-type {\n",
       "        vertical-align: middle;\n",
       "    }\n",
       "\n",
       "    .dataframe tbody tr th {\n",
       "        vertical-align: top;\n",
       "    }\n",
       "\n",
       "    .dataframe thead th {\n",
       "        text-align: right;\n",
       "    }\n",
       "</style>\n",
       "<table border=\"1\" class=\"dataframe\">\n",
       "  <thead>\n",
       "    <tr style=\"text-align: right;\">\n",
       "      <th></th>\n",
       "      <th>carbonate</th>\n",
       "      <th>citrate</th>\n",
       "      <th>total_lithium</th>\n",
       "      <th>total_cost</th>\n",
       "    </tr>\n",
       "  </thead>\n",
       "  <tbody>\n",
       "    <tr>\n",
       "      <th>count</th>\n",
       "      <td>21010.000000</td>\n",
       "      <td>21010.000000</td>\n",
       "      <td>21010.000000</td>\n",
       "      <td>21010.000000</td>\n",
       "    </tr>\n",
       "    <tr>\n",
       "      <th>mean</th>\n",
       "      <td>375.297668</td>\n",
       "      <td>3.816564</td>\n",
       "      <td>379.114231</td>\n",
       "      <td>691.242443</td>\n",
       "    </tr>\n",
       "    <tr>\n",
       "      <th>std</th>\n",
       "      <td>300.596623</td>\n",
       "      <td>4.707237</td>\n",
       "      <td>304.017283</td>\n",
       "      <td>600.048727</td>\n",
       "    </tr>\n",
       "    <tr>\n",
       "      <th>min</th>\n",
       "      <td>27.000000</td>\n",
       "      <td>0.000000</td>\n",
       "      <td>27.000000</td>\n",
       "      <td>49.340000</td>\n",
       "    </tr>\n",
       "    <tr>\n",
       "      <th>25%</th>\n",
       "      <td>201.000000</td>\n",
       "      <td>1.000000</td>\n",
       "      <td>203.000000</td>\n",
       "      <td>337.285000</td>\n",
       "    </tr>\n",
       "    <tr>\n",
       "      <th>50%</th>\n",
       "      <td>290.000000</td>\n",
       "      <td>2.000000</td>\n",
       "      <td>293.000000</td>\n",
       "      <td>509.399650</td>\n",
       "    </tr>\n",
       "    <tr>\n",
       "      <th>75%</th>\n",
       "      <td>446.000000</td>\n",
       "      <td>5.000000</td>\n",
       "      <td>450.000000</td>\n",
       "      <td>822.431118</td>\n",
       "    </tr>\n",
       "    <tr>\n",
       "      <th>max</th>\n",
       "      <td>2147.000000</td>\n",
       "      <td>54.000000</td>\n",
       "      <td>2167.000000</td>\n",
       "      <td>5321.818920</td>\n",
       "    </tr>\n",
       "  </tbody>\n",
       "</table>\n",
       "</div>"
      ],
      "text/plain": [
       "          carbonate       citrate  total_lithium    total_cost\n",
       "count  21010.000000  21010.000000   21010.000000  21010.000000\n",
       "mean     375.297668      3.816564     379.114231    691.242443\n",
       "std      300.596623      4.707237     304.017283    600.048727\n",
       "min       27.000000      0.000000      27.000000     49.340000\n",
       "25%      201.000000      1.000000     203.000000    337.285000\n",
       "50%      290.000000      2.000000     293.000000    509.399650\n",
       "75%      446.000000      5.000000     450.000000    822.431118\n",
       "max     2147.000000     54.000000    2167.000000   5321.818920"
      ]
     },
     "execution_count": 13,
     "metadata": {},
     "output_type": "execute_result"
    }
   ],
   "source": [
    "ccg_lithium_totalcount.describe()"
   ]
  },
  {
   "cell_type": "markdown",
   "metadata": {},
   "source": [
    "### Display total no. of items dispensed per year"
   ]
  },
  {
   "cell_type": "code",
   "execution_count": 14,
   "metadata": {},
   "outputs": [
    {
     "data": {
      "image/png": "[encoded data removed]",
      "text/plain": [
       "<Figure size 432x288 with 1 Axes>"
      ]
     },
     "metadata": {
      "needs_background": "light"
     },
     "output_type": "display_data"
    }
   ],
   "source": [
    "plot1 = df_lithium.groupby(\"month\").sum().plot(kind='line', title=\"Total number items of lithium\")"
   ]
  },
  {
   "cell_type": "code",
   "execution_count": 20,
   "metadata": {},
   "outputs": [
    {
     "data": {
      "text/plain": [
       "(40000, 100000)"
      ]
     },
     "execution_count": 20,
     "metadata": {},
     "output_type": "execute_result"
    },
    {
     "data": {
      "image/png": "[encoded data removed]",
      "text/plain": [
       "<Figure size 432x288 with 1 Axes>"
      ]
     },
     "metadata": {
      "needs_background": "light"
     },
     "output_type": "display_data"
    }
   ],
   "source": [
    "plot2 = df_lithium.groupby(\"month\")['total_lithium'].sum().plot(kind='line', title=\"Total number items of lithium\")\n",
    "plt.ylim(40000, 100000)"
   ]
  },
  {
   "cell_type": "code",
   "execution_count": 16,
   "metadata": {},
   "outputs": [
    {
     "data": {
      "image/png": "[encoded data removed]",
      "text/plain": [
       "<Figure size 432x288 with 1 Axes>"
      ]
     },
     "metadata": {
      "needs_background": "light"
     },
     "output_type": "display_data"
    }
   ],
   "source": [
    "plot3 = df_lithium.groupby(\"month\")['carbonate'].sum().plot(kind='line', title='Total number of items of lithium carbonate')"
   ]
  },
  {
   "cell_type": "code",
   "execution_count": 17,
   "metadata": {},
   "outputs": [
    {
     "data": {
      "image/png": "[encoded data removed]",
      "text/plain": [
       "<Figure size 432x288 with 1 Axes>"
      ]
     },
     "metadata": {
      "needs_background": "light"
     },
     "output_type": "display_data"
    }
   ],
   "source": [
    "plot4 = df_lithium.groupby(\"month\")[\"citrate\"].sum().plot(kind='line', title='Total number of items of lithium citrate')"
   ]
  },
  {
   "cell_type": "markdown",
   "metadata": {},
   "source": [
    "### Print graph of lithium use from 1999-2019 like they do on the Trends page on the OP website"
   ]
  },
  {
   "cell_type": "markdown",
   "metadata": {},
   "source": [
    "### Explore costs of individual brands of lithium over time (2014 to 2019) to see what caused increased costs in 2016"
   ]
  },
  {
   "cell_type": "code",
   "execution_count": 4,
   "metadata": {},
   "outputs": [],
   "source": [
    "sql2 = \"\"\"\n",
    "SELECT\n",
    "month,\n",
    "bnf_code,\n",
    "items,\n",
    "actual_cost,\n",
    "quantity\n",
    "\n",
    "FROM hscic.normalised_prescribing_standard\n",
    "\n",
    "WHERE (bnf_code LIKE \"0402030K0%\" OR bnf_code LIKE \"0402030P0%\")\n",
    "\n",
    "GROUP BY\n",
    "month,\n",
    "bnf_code,\n",
    "items,\n",
    "actual_cost,\n",
    "quantity\n",
    "\n",
    "ORDER BY\n",
    "month\n",
    "\n",
    "\n",
    "\"\"\"\n",
    "\n",
    "df_lithium_costs = bq.cached_read(sql2, csv_path=\"lithium_costs.csv\")"
   ]
  },
  {
   "cell_type": "code",
   "execution_count": 10,
   "metadata": {},
   "outputs": [],
   "source": [
    "df_lithium_costs['month'] = df_lithium_costs['month'].astype('datetime64[ns]')"
   ]
  },
  {
   "cell_type": "code",
   "execution_count": 11,
   "metadata": {},
   "outputs": [
    {
     "data": {
      "text/html": [
       "<div>\n",
       "<style scoped>\n",
       "    .dataframe tbody tr th:only-of-type {\n",
       "        vertical-align: middle;\n",
       "    }\n",
       "\n",
       "    .dataframe tbody tr th {\n",
       "        vertical-align: top;\n",
       "    }\n",
       "\n",
       "    .dataframe thead th {\n",
       "        text-align: right;\n",
       "    }\n",
       "</style>\n",
       "<table border=\"1\" class=\"dataframe\">\n",
       "  <thead>\n",
       "    <tr style=\"text-align: right;\">\n",
       "      <th></th>\n",
       "      <th>month</th>\n",
       "      <th>bnf_code</th>\n",
       "      <th>items</th>\n",
       "      <th>actual_cost</th>\n",
       "      <th>quantity</th>\n",
       "    </tr>\n",
       "  </thead>\n",
       "  <tbody>\n",
       "    <tr>\n",
       "      <th>0</th>\n",
       "      <td>2010-08-01</td>\n",
       "      <td>0402030K0BFABAI</td>\n",
       "      <td>2</td>\n",
       "      <td>3.63000</td>\n",
       "      <td>168</td>\n",
       "    </tr>\n",
       "    <tr>\n",
       "      <th>1</th>\n",
       "      <td>2010-08-01</td>\n",
       "      <td>0402030K0BFAAAF</td>\n",
       "      <td>3</td>\n",
       "      <td>8.00000</td>\n",
       "      <td>256</td>\n",
       "    </tr>\n",
       "    <tr>\n",
       "      <th>2</th>\n",
       "      <td>2010-08-01</td>\n",
       "      <td>0402030K0BFAAAF</td>\n",
       "      <td>8</td>\n",
       "      <td>19.26000</td>\n",
       "      <td>616</td>\n",
       "    </tr>\n",
       "    <tr>\n",
       "      <th>3</th>\n",
       "      <td>2010-08-01</td>\n",
       "      <td>0402030K0AAAFAF</td>\n",
       "      <td>3</td>\n",
       "      <td>6.76000</td>\n",
       "      <td>216</td>\n",
       "    </tr>\n",
       "    <tr>\n",
       "      <th>4</th>\n",
       "      <td>2010-08-01</td>\n",
       "      <td>0402030K0AAAFAF</td>\n",
       "      <td>3</td>\n",
       "      <td>5.52000</td>\n",
       "      <td>148</td>\n",
       "    </tr>\n",
       "    <tr>\n",
       "      <th>...</th>\n",
       "      <td>...</td>\n",
       "      <td>...</td>\n",
       "      <td>...</td>\n",
       "      <td>...</td>\n",
       "      <td>...</td>\n",
       "    </tr>\n",
       "    <tr>\n",
       "      <th>755127</th>\n",
       "      <td>2019-10-01</td>\n",
       "      <td>0402030K0BFABAI</td>\n",
       "      <td>4</td>\n",
       "      <td>5.25951</td>\n",
       "      <td>198</td>\n",
       "    </tr>\n",
       "    <tr>\n",
       "      <th>755128</th>\n",
       "      <td>2019-10-01</td>\n",
       "      <td>0402030K0BFABAI</td>\n",
       "      <td>17</td>\n",
       "      <td>8.58081</td>\n",
       "      <td>268</td>\n",
       "    </tr>\n",
       "    <tr>\n",
       "      <th>755129</th>\n",
       "      <td>2019-10-01</td>\n",
       "      <td>0402030K0BFABAI</td>\n",
       "      <td>10</td>\n",
       "      <td>12.50241</td>\n",
       "      <td>448</td>\n",
       "    </tr>\n",
       "    <tr>\n",
       "      <th>755130</th>\n",
       "      <td>2019-10-01</td>\n",
       "      <td>0402030K0BFABAI</td>\n",
       "      <td>4</td>\n",
       "      <td>8.61776</td>\n",
       "      <td>322</td>\n",
       "    </tr>\n",
       "    <tr>\n",
       "      <th>755131</th>\n",
       "      <td>2019-10-01</td>\n",
       "      <td>0402030K0BFABAI</td>\n",
       "      <td>5</td>\n",
       "      <td>2.99958</td>\n",
       "      <td>96</td>\n",
       "    </tr>\n",
       "  </tbody>\n",
       "</table>\n",
       "<p>755132 rows × 5 columns</p>\n",
       "</div>"
      ],
      "text/plain": [
       "            month         bnf_code  items  actual_cost  quantity\n",
       "0      2010-08-01  0402030K0BFABAI      2      3.63000       168\n",
       "1      2010-08-01  0402030K0BFAAAF      3      8.00000       256\n",
       "2      2010-08-01  0402030K0BFAAAF      8     19.26000       616\n",
       "3      2010-08-01  0402030K0AAAFAF      3      6.76000       216\n",
       "4      2010-08-01  0402030K0AAAFAF      3      5.52000       148\n",
       "...           ...              ...    ...          ...       ...\n",
       "755127 2019-10-01  0402030K0BFABAI      4      5.25951       198\n",
       "755128 2019-10-01  0402030K0BFABAI     17      8.58081       268\n",
       "755129 2019-10-01  0402030K0BFABAI     10     12.50241       448\n",
       "755130 2019-10-01  0402030K0BFABAI      4      8.61776       322\n",
       "755131 2019-10-01  0402030K0BFABAI      5      2.99958        96\n",
       "\n",
       "[755132 rows x 5 columns]"
      ]
     },
     "execution_count": 11,
     "metadata": {},
     "output_type": "execute_result"
    }
   ],
   "source": [
    "df_lithium_costs.head(-10)"
   ]
  },
  {
   "cell_type": "markdown",
   "metadata": {},
   "source": [
    "### Show no of items where quantity is less than 28, therefore crude measure of items with less than one month supply"
   ]
  },
  {
   "cell_type": "code",
   "execution_count": 12,
   "metadata": {},
   "outputs": [],
   "source": [
    "df_less_than_month = df_lithium_costs[df_lithium_costs['quantity']<28]"
   ]
  },
  {
   "cell_type": "code",
   "execution_count": 13,
   "metadata": {},
   "outputs": [
    {
     "data": {
      "text/html": [
       "<div>\n",
       "<style scoped>\n",
       "    .dataframe tbody tr th:only-of-type {\n",
       "        vertical-align: middle;\n",
       "    }\n",
       "\n",
       "    .dataframe tbody tr th {\n",
       "        vertical-align: top;\n",
       "    }\n",
       "\n",
       "    .dataframe thead th {\n",
       "        text-align: right;\n",
       "    }\n",
       "</style>\n",
       "<table border=\"1\" class=\"dataframe\">\n",
       "  <thead>\n",
       "    <tr style=\"text-align: right;\">\n",
       "      <th></th>\n",
       "      <th>month</th>\n",
       "      <th>bnf_code</th>\n",
       "      <th>items</th>\n",
       "      <th>actual_cost</th>\n",
       "      <th>quantity</th>\n",
       "    </tr>\n",
       "  </thead>\n",
       "  <tbody>\n",
       "    <tr>\n",
       "      <th>59</th>\n",
       "      <td>2010-08-01</td>\n",
       "      <td>0402030K0AAAFAF</td>\n",
       "      <td>1</td>\n",
       "      <td>0.68</td>\n",
       "      <td>21</td>\n",
       "    </tr>\n",
       "    <tr>\n",
       "      <th>116</th>\n",
       "      <td>2010-08-01</td>\n",
       "      <td>0402030K0AAAFAF</td>\n",
       "      <td>1</td>\n",
       "      <td>0.65</td>\n",
       "      <td>20</td>\n",
       "    </tr>\n",
       "    <tr>\n",
       "      <th>156</th>\n",
       "      <td>2010-08-01</td>\n",
       "      <td>0402030K0BFAAAF</td>\n",
       "      <td>1</td>\n",
       "      <td>0.15</td>\n",
       "      <td>4</td>\n",
       "    </tr>\n",
       "    <tr>\n",
       "      <th>200</th>\n",
       "      <td>2010-08-01</td>\n",
       "      <td>0402030K0BFABAI</td>\n",
       "      <td>1</td>\n",
       "      <td>0.44</td>\n",
       "      <td>21</td>\n",
       "    </tr>\n",
       "    <tr>\n",
       "      <th>208</th>\n",
       "      <td>2010-08-01</td>\n",
       "      <td>0402030K0AAAIAI</td>\n",
       "      <td>2</td>\n",
       "      <td>0.36</td>\n",
       "      <td>14</td>\n",
       "    </tr>\n",
       "  </tbody>\n",
       "</table>\n",
       "</div>"
      ],
      "text/plain": [
       "         month         bnf_code  items  actual_cost  quantity\n",
       "59  2010-08-01  0402030K0AAAFAF      1         0.68        21\n",
       "116 2010-08-01  0402030K0AAAFAF      1         0.65        20\n",
       "156 2010-08-01  0402030K0BFAAAF      1         0.15         4\n",
       "200 2010-08-01  0402030K0BFABAI      1         0.44        21\n",
       "208 2010-08-01  0402030K0AAAIAI      2         0.36        14"
      ]
     },
     "execution_count": 13,
     "metadata": {},
     "output_type": "execute_result"
    }
   ],
   "source": [
    "df_less_than_month.head()"
   ]
  },
  {
   "cell_type": "code",
   "execution_count": 14,
   "metadata": {},
   "outputs": [
    {
     "data": {
      "image/png": "[encoded data removed]",
      "text/plain": [
       "<Figure size 432x288 with 1 Axes>"
      ]
     },
     "metadata": {
      "needs_background": "light"
     },
     "output_type": "display_data"
    }
   ],
   "source": [
    "plot6 = df_less_than_month.groupby(\"month\")['quantity'].sum().plot(kind='line', title=\"Crude measure of items with less than months supply\")"
   ]
  },
  {
   "cell_type": "markdown",
   "metadata": {},
   "source": [
    "### Describe no. of lithium items per 1000 patients in each CCG to show Geographical Variation"
   ]
  },
  {
   "cell_type": "code",
   "execution_count": null,
   "metadata": {},
   "outputs": [],
   "source": [
    "##get list size info\n",
    "sql3 = \"\"\"\n",
    "SELECT month, \n",
    "pct_id AS pct,\n",
    "AVG(total_list_size) AS list_size\n",
    "FROM ebmdatalab.hscic.practice_statistics\n",
    "group by \n",
    "month, pct\n",
    "order by\n",
    "month, pct,\n",
    "list_size\n",
    "\"\"\"\n",
    "df_list = bq.cached_read(sql3, csv_path='df_list.csv')\n",
    "df_list['month'] = df_list['month'].astype('datetime64[ns]')\n",
    "df_list.head(5)"
   ]
  },
  {
   "cell_type": "code",
   "execution_count": null,
   "metadata": {},
   "outputs": [],
   "source": [
    "ccg_lithium_count = df_lithium.groupby([\"month\", \"pct\"])[\"total_lithium\"].sum().reset_index()\n",
    "ccg_lithium_count.head()"
   ]
  },
  {
   "cell_type": "code",
   "execution_count": null,
   "metadata": {},
   "outputs": [],
   "source": [
    "#merge dataframes to show items per 1000\n",
    "\n",
    "df_lithium_per1000 = pd.merge(ccg_lithium_count, df_list, on=['month', 'pct'])\n",
    "df_lithium_per1000['items_per_1000'] = round(1000* (df_lithium_per1000['total_lithium']/df_lithium_per1000['list_size']),0)\n",
    "df_lithium_per1000.head()"
   ]
  },
  {
   "cell_type": "code",
   "execution_count": null,
   "metadata": {},
   "outputs": [],
   "source": [
    "df_lithium_per1000[\"month\"] = pd.to_datetime(df_lithium_per1000['month']).dt.date"
   ]
  },
  {
   "cell_type": "code",
   "execution_count": null,
   "metadata": {},
   "outputs": [],
   "source": [
    "df_lithium_per1000.describe()"
   ]
  },
  {
   "cell_type": "code",
   "execution_count": null,
   "metadata": {},
   "outputs": [],
   "source": [
    "#create sample deciles\n",
    "\n",
    "charts.deciles_chart(\n",
    "        df_lithium_per1000,\n",
    "        period_column='month',\n",
    "        column='total_lithium',\n",
    "        title=\"Number of lithium items per 1000 patient\",\n",
    "        ylabel='Items per 1000',\n",
    "        show_outer_percentiles=True,\n",
    "        show_legend=False,\n",
    ")\n",
    "\n",
    "plt.show()"
   ]
  },
  {
   "cell_type": "markdown",
   "metadata": {},
   "source": [
    "### Describe lithium items prescribed by non-GP facilities in UK to check if bias caused by changes in secondary care prescribing"
   ]
  },
  {
   "cell_type": "code",
   "execution_count": null,
   "metadata": {},
   "outputs": [],
   "source": [
    "sql4 = \"\"\"\n",
    "WITH\n",
    "bnf_tab AS (\n",
    "SELECT\n",
    "DISTINCT chemical,\n",
    "chemical_code\n",
    "FROM\n",
    "ebmdatalab.hscic.bnf )\n",
    "SELECT\n",
    "rx.month,\n",
    "rx.practice,\n",
    "prac.setting,\n",
    "SUBSTR(rx.bnf_code,1,9) AS chemical_code,\n",
    "chemical,\n",
    "sum(IF(rx.bnf_code LIKE \"0402030K0%\", items,0)) AS carbonate,\n",
    "sum(IF(rx.bnf_code LIKE \"0402030P0%\", items,0)) AS citrate,\n",
    "sum(items) AS total_lithium,\n",
    "sum(actual_cost) AS total_cost\n",
    "FROM\n",
    "hscic.normalised_prescribing_standard AS rx\n",
    "LEFT JOIN\n",
    "bnf_tab\n",
    "ON\n",
    "chemical_code =SUBSTR(rx.bnf_code,1,9)\n",
    "JOIN\n",
    "hscic.practices AS prac\n",
    "ON\n",
    "rx.practice = prac.code \n",
    "\n",
    "WHERE\n",
    "  prac.setting !=4\n",
    "  AND (bnf_code LIKE \"0402030K0%\" OR ##carbonate\n",
    "  bnf_code LIKE \"0402030P0%\") ##citrate\n",
    "  \n",
    "GROUP BY\n",
    "rx.month,\n",
    "rx.practice,\n",
    "rx.pct,\n",
    "prac.setting,\n",
    "chemical_code,\n",
    "chemical\n",
    "ORDER BY\n",
    "month\"\"\"\n",
    "\n",
    "df_nonGPlithium = bq.cached_read(sql3, csv_path='nonGPlithium.csv')"
   ]
  },
  {
   "cell_type": "code",
   "execution_count": null,
   "metadata": {},
   "outputs": [],
   "source": [
    "df_nonGPlithium['month'] = df_nonGPlithium['month'].astype('datetime64[ns]')\n",
    "df_nonGPlithium"
   ]
  },
  {
   "cell_type": "code",
   "execution_count": null,
   "metadata": {},
   "outputs": [],
   "source": [
    "df_nonGPlithium.groupby('month').sum()"
   ]
  },
  {
   "cell_type": "code",
   "execution_count": null,
   "metadata": {},
   "outputs": [],
   "source": [
    "headers = [\n",
    "    'code','name','postcode','status_code','ccg','setting']\n",
    "nonGPbreakdown = pd.read_csv(\"lithium.csv\", names=headers, usecols=[0,1,9,12,23,25])\n",
    "nonGPbreakdown.head()"
   ]
  },
  {
   "cell_type": "code",
   "execution_count": null,
   "metadata": {},
   "outputs": [],
   "source": [
    "plot5 = df_nonGPlithium.groupby(\"month\")[\"total_lithium\"].sum().plot(kind='line', title=\"Total number items of lithium by nonGP orgs\")"
   ]
  },
  {
   "cell_type": "markdown",
   "metadata": {},
   "source": [
    "### Extract data from QOF to show no. of lithium patients per CCG as determined by QOF denominators for lithium measures."
   ]
  },
  {
   "cell_type": "markdown",
   "metadata": {},
   "source": [
    "### Compare QOF no of lithium patients with no of lithium items per CCG"
   ]
  },
  {
   "cell_type": "markdown",
   "metadata": {},
   "source": [
    "### Describe the no of DDDs or average quantity in each lithium item.  Has this changed over time?"
   ]
  },
  {
   "cell_type": "code",
   "execution_count": null,
   "metadata": {},
   "outputs": [],
   "source": []
  }
 ],
 "metadata": {
  "kernelspec": {
   "display_name": "Python 3",
   "language": "python",
   "name": "python3"
  },
  "language_info": {
   "codemirror_mode": {
    "name": "ipython",
    "version": 3
   },
   "file_extension": ".py",
   "mimetype": "text/x-python",
   "name": "python",
   "nbconvert_exporter": "python",
   "pygments_lexer": "ipython3",
   "version": "3.7.4"
  }
 },
 "nbformat": 4,
 "nbformat_minor": 2
}
