{
 "cells": [
  {
   "cell_type": "markdown",
   "metadata": {},
   "source": [
    "# Lithium prescribing trends in England. \n",
    "\n",
    "## **Background and Rationale**\n",
    "For over 60 years lithium has been the gold standard for the treatment and prevention of relapse in bipolar disorder.  In recent years, published literature has confirmed the superiority of lithium in this field, including two meta-analysis of RCTs (Severus et al. 2014, Miura et al. 2014) and one of observational studies (Kessing et al 2018).  Yet in various countries, authors have described a decline in lithium use (Karanti et al. 2016), including in the UK (Hayes et al. 2011, Lyall et al. 2019) \n",
    "\n",
    "We wish to describe long term lithium prescribing trends in England.  Previous authors have reported regional variations in lithium use across the country (POMH Lithium report, 2008). We would like to explore these national variations in use, to further understand trends in lithium prescribing in the UK. \n",
    "\n",
    "## **Proposed project**\n",
    "### Title:  \n",
    "Lithium prescribing trends\n",
    "### Description:  \n",
    "* Total number of items of lithium carbonate and lithium citrate dispensed per year from 1995 to 2018\n",
    "* Total number of non-GP v GP items of lithium carbonate and lithium citrate dispensed per year\n",
    "* Number of items of lithium carbonate per 1000 patient population for each CCG\n",
    "* Number of items of lithium citrate per 1000 patient population for each CCG\n",
    "* Number of items of non-GP v GP prescriptions for lithium carbonate for each region\n",
    "* Number of items of non-GP v GP prescriptions for lithium citrate for each region\n",
    "\n"
   ]
  },
  {
   "cell_type": "code",
   "execution_count": null,
   "metadata": {},
   "outputs": [],
   "source": [
    "#import libraries required for analysis\n",
    "import pandas as pd\n",
    "import numpy as np\n",
    "import matplotlib\n",
    "import matplotlib.pyplot as plt\n",
    "import matplotlib.gridspec as gridspec\n",
    "import seaborn as sns\n",
    "\n",
    "from matplotlib.dates import DateFormatter\n",
    "from ebmdatalab import bq\n",
    "from ebmdatalab import charts\n",
    "from ebmdatalab import maps\n",
    "import matplotlib.gridspec as gridspec"
   ]
  },
  {
   "cell_type": "code",
   "execution_count": null,
   "metadata": {},
   "outputs": [],
   "source": [
    "sql = \"\"\"\n",
    "WITH\n",
    "bnf_tab AS (\n",
    "SELECT\n",
    "DISTINCT chemical,\n",
    "chemical_code\n",
    "FROM\n",
    "ebmdatalab.hscic.bnf )\n",
    "SELECT\n",
    "rx.month,\n",
    "rx.practice,\n",
    "rx.pct,\n",
    "SUBSTR(rx.bnf_code,1,9) AS chemical_code,\n",
    "chemical,\n",
    "sum(IF(rx.bnf_code LIKE \"0402030K0%\", items,0)) AS carbonate,\n",
    "sum(IF(rx.bnf_code LIKE \"0402030P0%\", items,0)) AS citrate,\n",
    "sum(items) AS total_lithium,\n",
    "sum(actual_cost) AS total_cost\n",
    "FROM\n",
    "hscic.normalised_prescribing_standard AS rx\n",
    "LEFT JOIN\n",
    "bnf_tab\n",
    "ON\n",
    "chemical_code =SUBSTR(rx.bnf_code,1,9)\n",
    "JOIN\n",
    "hscic.practices AS prac\n",
    "ON\n",
    "rx.practice = prac.code \n",
    "JOIN\n",
    "  hscic.ccgs AS ccgs\n",
    "ON\n",
    "rx.pct=ccgs.code\n",
    "WHERE\n",
    "  prac.setting = 4\n",
    "  AND (bnf_code LIKE \"0402030K0%\" OR ##carbonate\n",
    "  bnf_code LIKE \"0402030P0%\") ##citrate\n",
    "  AND\n",
    "ccgs.org_type='CCG'\n",
    "GROUP BY\n",
    "rx.month,\n",
    "rx.practice,\n",
    "rx.pct,\n",
    "chemical_code,\n",
    "chemical\n",
    "ORDER BY\n",
    "month\"\"\"\n",
    "\n",
    "df_lithium = bq.cached_read(sql, csv_path='lithium.csv')"
   ]
  },
  {
   "cell_type": "code",
   "execution_count": null,
   "metadata": {},
   "outputs": [],
   "source": [
    "df_lithium['month'] = df_lithium['month'].astype('datetime64[ns]')\n",
    "df_lithium.head()"
   ]
  },
  {
   "cell_type": "code",
   "execution_count": null,
   "metadata": {},
   "outputs": [],
   "source": [
    "df_lithium[\"chemical\"].unique()#shows me the unique values within the chemical column"
   ]
  },
  {
   "cell_type": "code",
   "execution_count": null,
   "metadata": {},
   "outputs": [],
   "source": [
    "df_lithium.nunique()"
   ]
  },
  {
   "cell_type": "code",
   "execution_count": null,
   "metadata": {},
   "outputs": [],
   "source": [
    "df_carbonate = df_lithium.loc[df_lithium[\"chemical\"] == \"Lithium Carbonate\"]\n",
    "df_carbonate.head()#shows me the data for Lithium Carbonate"
   ]
  },
  {
   "cell_type": "code",
   "execution_count": null,
   "metadata": {},
   "outputs": [],
   "source": [
    "df_carbonate.nunique()"
   ]
  },
  {
   "cell_type": "code",
   "execution_count": null,
   "metadata": {
    "scrolled": true
   },
   "outputs": [],
   "source": [
    "df_carbonate.describe()"
   ]
  },
  {
   "cell_type": "code",
   "execution_count": null,
   "metadata": {
    "scrolled": true
   },
   "outputs": [],
   "source": [
    "df_citrate = df_lithium.loc[df_lithium[\"chemical\"] == \"Lithium Citrate\"]\n",
    "df_citrate.head()#shows me the data for Lithium Citrate"
   ]
  },
  {
   "cell_type": "code",
   "execution_count": null,
   "metadata": {},
   "outputs": [],
   "source": [
    "df_citrate.nunique()"
   ]
  },
  {
   "cell_type": "code",
   "execution_count": null,
   "metadata": {},
   "outputs": [],
   "source": [
    "df_citrate.describe()"
   ]
  },
  {
   "cell_type": "code",
   "execution_count": null,
   "metadata": {},
   "outputs": [],
   "source": [
    "ccg_lithium_totalcount = df_lithium.groupby([\"pct\", \"month\"], as_index=False).sum()\n",
    "ccg_lithium_totalcount.head()#shows me the data grouped by PCT, therefore representing CCGs"
   ]
  },
  {
   "cell_type": "code",
   "execution_count": null,
   "metadata": {},
   "outputs": [],
   "source": [
    "ccg_lithium_totalcount.describe()"
   ]
  },
  {
   "cell_type": "markdown",
   "metadata": {},
   "source": [
    "### Display total no. of items dispensed per year"
   ]
  },
  {
   "cell_type": "code",
   "execution_count": null,
   "metadata": {},
   "outputs": [],
   "source": [
    "plot1 = df_lithium.groupby(\"month\").sum().plot(kind='line', title=\"Total number items of lithium\")"
   ]
  },
  {
   "cell_type": "code",
   "execution_count": null,
   "metadata": {},
   "outputs": [],
   "source": [
    "df_lithium.groupby(\"month\")['total_lithium'].sum().plot(kind='line', title=\"Total number items of lithium\")"
   ]
  },
  {
   "cell_type": "code",
   "execution_count": null,
   "metadata": {},
   "outputs": [],
   "source": [
    "df_lithium.groupby(\"month\")['carbonate'].sum().plot(kind='line', title='Total number of items of lithium carbonate')"
   ]
  },
  {
   "cell_type": "code",
   "execution_count": null,
   "metadata": {},
   "outputs": [],
   "source": [
    "df_lithium.groupby(\"month\")[\"citrate\"].sum().plot(kind='line', title='Total number of items of lithium citrate')"
   ]
  },
  {
   "cell_type": "code",
   "execution_count": null,
   "metadata": {},
   "outputs": [],
   "source": [
    "##get list size info\n",
    "sql2 = \"\"\"\n",
    "SELECT month, \n",
    "pct_id AS pct,\n",
    "AVG(total_list_size) AS list_size\n",
    "FROM ebmdatalab.hscic.practice_statistics\n",
    "group by \n",
    "month, pct\n",
    "order by\n",
    "month, pct,\n",
    "list_size\n",
    "\"\"\"\n",
    "df_list = bq.cached_read(sql2, csv_path='df_list.csv')\n",
    "df_list['month'] = df_list['month'].astype('datetime64[ns]')\n",
    "df_list.head(5)"
   ]
  },
  {
   "cell_type": "code",
   "execution_count": null,
   "metadata": {},
   "outputs": [],
   "source": [
    "ccg_lithium_count = df_lithium.groupby([\"month\", \"pct\"])[\"total_lithium\"].sum().reset_index()\n",
    "ccg_lithium_count.head()"
   ]
  },
  {
   "cell_type": "code",
   "execution_count": null,
   "metadata": {},
   "outputs": [],
   "source": [
    "#merge dataframes to show items per 1000\n",
    "\n",
    "df_lithium_per1000 = pd.merge(ccg_lithium_count, df_list, on=['month', 'pct'])\n",
    "df_lithium_per1000['items_per_1000'] = round(1000* (df_lithium_per1000['total_lithium']/df_lithium_per1000['list_size']),0)\n",
    "df_lithium_per1000.head()"
   ]
  },
  {
   "cell_type": "code",
   "execution_count": null,
   "metadata": {},
   "outputs": [],
   "source": [
    "df_lithium_per1000[\"month\"] = pd.to_datetime(df_lithium_per1000['month']).dt.date"
   ]
  },
  {
   "cell_type": "code",
   "execution_count": null,
   "metadata": {},
   "outputs": [],
   "source": [
    "df_lithium_per1000.describe()"
   ]
  },
  {
   "cell_type": "code",
   "execution_count": null,
   "metadata": {},
   "outputs": [],
   "source": [
    "#create sample deciles\n",
    "\n",
    "charts.deciles_chart(\n",
    "        df_lithium_per1000,\n",
    "        period_column='month',\n",
    "        column='total_lithium',\n",
    "        title=\"Number of lithium items per 1000 patient\",\n",
    "        ylabel='Items per 1000',\n",
    "        show_outer_percentiles=True,\n",
    "        show_legend=False,\n",
    ")\n",
    "\n",
    "plt.show()"
   ]
  },
  {
   "cell_type": "markdown",
   "metadata": {},
   "source": [
    "### Describe lithium items prescribed by non-GP facilities in UK"
   ]
  },
  {
   "cell_type": "code",
   "execution_count": null,
   "metadata": {},
   "outputs": [],
   "source": [
    "sql3 = \"\"\"\n",
    "WITH\n",
    "bnf_tab AS (\n",
    "SELECT\n",
    "DISTINCT chemical,\n",
    "chemical_code\n",
    "FROM\n",
    "ebmdatalab.hscic.bnf )\n",
    "SELECT\n",
    "rx.month,\n",
    "rx.practice,\n",
    "prac.setting,\n",
    "SUBSTR(rx.bnf_code,1,9) AS chemical_code,\n",
    "chemical,\n",
    "sum(IF(rx.bnf_code LIKE \"0402030K0%\", items,0)) AS carbonate,\n",
    "sum(IF(rx.bnf_code LIKE \"0402030P0%\", items,0)) AS citrate,\n",
    "sum(items) AS total_lithium,\n",
    "sum(actual_cost) AS total_cost\n",
    "FROM\n",
    "hscic.normalised_prescribing_standard AS rx\n",
    "LEFT JOIN\n",
    "bnf_tab\n",
    "ON\n",
    "chemical_code =SUBSTR(rx.bnf_code,1,9)\n",
    "JOIN\n",
    "hscic.practices AS prac\n",
    "ON\n",
    "rx.practice = prac.code \n",
    "\n",
    "WHERE\n",
    "  prac.setting !=4\n",
    "  AND (bnf_code LIKE \"0402030K0%\" OR ##carbonate\n",
    "  bnf_code LIKE \"0402030P0%\") ##citrate\n",
    "  \n",
    "GROUP BY\n",
    "rx.month,\n",
    "rx.practice,\n",
    "rx.pct,\n",
    "prac.setting,\n",
    "chemical_code,\n",
    "chemical\n",
    "ORDER BY\n",
    "month\"\"\"\n",
    "\n",
    "df_nonGPlithium = bq.cached_read(sql3, csv_path='nonGPlithium.csv')"
   ]
  },
  {
   "cell_type": "code",
   "execution_count": null,
   "metadata": {},
   "outputs": [],
   "source": [
    "df_nonGPlithium['month'] = df_nonGPlithium['month'].astype('datetime64[ns]')\n",
    "df_nonGPlithium"
   ]
  },
  {
   "cell_type": "code",
   "execution_count": null,
   "metadata": {},
   "outputs": [],
   "source": [
    "df_nonGPlithium.groupby('month').sum()"
   ]
  },
  {
   "cell_type": "code",
   "execution_count": null,
   "metadata": {},
   "outputs": [],
   "source": [
    "headers = [\n",
    "    'code','name','postcode','status_code','ccg','setting']\n",
    "nonGPbreakdown = pd.read_csv(\"lithium.csv\", names=headers, usecols=[0,1,9,12,23,25])\n",
    "nonGPbreakdown.head()"
   ]
  },
  {
   "cell_type": "code",
   "execution_count": null,
   "metadata": {},
   "outputs": [],
   "source": [
    "type(plot1)"
   ]
  },
  {
   "cell_type": "code",
   "execution_count": null,
   "metadata": {},
   "outputs": [],
   "source": []
  }
 ],
 "metadata": {
  "kernelspec": {
   "display_name": "Python 3",
   "language": "python",
   "name": "python3"
  },
  "language_info": {
   "codemirror_mode": {
    "name": "ipython",
    "version": 3
   },
   "file_extension": ".py",
   "mimetype": "text/x-python",
   "name": "python",
   "nbconvert_exporter": "python",
   "pygments_lexer": "ipython3",
   "version": "3.7.4"
  }
 },
 "nbformat": 4,
 "nbformat_minor": 2
}
