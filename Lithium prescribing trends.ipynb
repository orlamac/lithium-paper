{
 "cells": [
  {
   "cell_type": "markdown",
   "metadata": {},
   "source": [
    "# Lithium prescribing trends in England. \n",
    "\n",
    "## **Background and Rationale**\n",
    "For over 60 years lithium has been the gold standard for the treatment and prevention of relapse in bipolar disorder.  In recent years, published literature has confirmed the superiority of lithium in this field, including two meta-analysis of RCTs (Severus et al. 2014, Miura et al. 2014) and one of observational studies (Kessing et al 2018).  Yet in various countries, authors have described a decline in lithium use (Karanti et al. 2016), including in the UK (Hayes et al. 2011, Lyall et al. 2019) \n",
    "\n",
    "We wish to describe long term lithium prescribing trends in England.  Previous authors have reported regional variations in lithium use across the country (POMH Lithium report, 2008). We would like to explore these national variations in use, to further understand trends in lithium prescribing in the UK. \n",
    "\n",
    "## **Proposed project**\n",
    "### Title:  \n",
    "Lithium prescribing trends\n",
    "### Description:  \n",
    "* Total number of items of lithium carbonate and lithium citrate dispensed per year from 1995 to 2018\n",
    "* Total number of non-GP v GP items of lithium carbonate and lithium citrate dispensed per year\n",
    "* Number of items of lithium carbonate per 1000 patient population for each CCG\n",
    "* Number of items of lithium citrate per 1000 patient population for each CCG\n",
    "* Number of items of non-GP v GP prescriptions for lithium carbonate for each region\n",
    "* Number of items of non-GP v GP prescriptions for lithium citrate for each region\n",
    "\n"
   ]
  },
  {
   "cell_type": "code",
   "execution_count": 5,
   "metadata": {},
   "outputs": [],
   "source": [
    "#import libraries required for analysis\n",
    "import pandas as pd\n",
    "import numpy as np\n",
    "import matplotlib\n",
    "import matplotlib.pyplot as plt\n",
    "import matplotlib.gridspec as gridspec\n",
    "import seaborn as sns\n",
    "\n",
    "from matplotlib.dates import DateFormatter\n",
    "from ebmdatalab import bq\n",
    "from ebmdatalab import charts\n",
    "from ebmdatalab import maps\n",
    "import matplotlib.gridspec as gridspec"
   ]
  },
  {
   "cell_type": "code",
   "execution_count": 28,
   "metadata": {},
   "outputs": [],
   "source": [
    "sql = \"\"\"\n",
    "WITH\n",
    "bnf_tab AS (\n",
    "SELECT\n",
    "DISTINCT chemical,\n",
    "chemical_code\n",
    "FROM\n",
    "ebmdatalab.hscic.bnf )\n",
    "SELECT\n",
    "rx.month,\n",
    "rx.practice,\n",
    "rx.pct,\n",
    "SUBSTR(rx.bnf_code,1,9) AS chemical_code,\n",
    "chemical,\n",
    "sum(IF(rx.bnf_code LIKE \"0402030K0%\", items,0)) AS carbonate,\n",
    "sum(IF(rx.bnf_code LIKE \"0402030P0%\", items,0)) AS citrate,\n",
    "sum(items) AS total_lithium,\n",
    "sum(actual_cost) AS total_cost\n",
    "FROM\n",
    "hscic.normalised_prescribing_standard AS rx\n",
    "LEFT JOIN\n",
    "bnf_tab\n",
    "ON\n",
    "chemical_code =SUBSTR(rx.bnf_code,1,9)\n",
    "JOIN\n",
    "hscic.practices AS prac\n",
    "ON\n",
    "rx.practice = prac.code \n",
    "JOIN\n",
    "  hscic.ccgs AS ccgs\n",
    "ON\n",
    "rx.pct=ccgs.code\n",
    "WHERE\n",
    "  prac.setting = 4\n",
    "  AND (bnf_code LIKE \"0402030K0%\" OR ##carbonate\n",
    "  bnf_code LIKE \"0402030P0%\") ##citrate\n",
    "  AND\n",
    "ccgs.org_type='CCG'\n",
    "GROUP BY\n",
    "rx.month,\n",
    "rx.practice,\n",
    "rx.pct,\n",
    "chemical_code,\n",
    "chemical\n",
    "ORDER BY\n",
    "month\"\"\"\n",
    "\n",
    "df_lithium = bq.cached_read(sql, csv_path='lithium.csv')"
   ]
  },
  {
   "cell_type": "code",
   "execution_count": 97,
   "metadata": {},
   "outputs": [
    {
     "data": {
      "text/html": [
       "<div>\n",
       "<style scoped>\n",
       "    .dataframe tbody tr th:only-of-type {\n",
       "        vertical-align: middle;\n",
       "    }\n",
       "\n",
       "    .dataframe tbody tr th {\n",
       "        vertical-align: top;\n",
       "    }\n",
       "\n",
       "    .dataframe thead th {\n",
       "        text-align: right;\n",
       "    }\n",
       "</style>\n",
       "<table border=\"1\" class=\"dataframe\">\n",
       "  <thead>\n",
       "    <tr style=\"text-align: right;\">\n",
       "      <th></th>\n",
       "      <th>month</th>\n",
       "      <th>practice</th>\n",
       "      <th>pct</th>\n",
       "      <th>chemical_code</th>\n",
       "      <th>chemical</th>\n",
       "      <th>carbonate</th>\n",
       "      <th>citrate</th>\n",
       "      <th>total_lithium</th>\n",
       "      <th>total_cost</th>\n",
       "    </tr>\n",
       "  </thead>\n",
       "  <tbody>\n",
       "    <tr>\n",
       "      <td>0</td>\n",
       "      <td>2010-08-01</td>\n",
       "      <td>E83027</td>\n",
       "      <td>07M</td>\n",
       "      <td>0402030K0</td>\n",
       "      <td>Lithium Carbonate</td>\n",
       "      <td>11</td>\n",
       "      <td>0</td>\n",
       "      <td>11</td>\n",
       "      <td>13.55</td>\n",
       "    </tr>\n",
       "    <tr>\n",
       "      <td>1</td>\n",
       "      <td>2010-08-01</td>\n",
       "      <td>M85007</td>\n",
       "      <td>15E</td>\n",
       "      <td>0402030K0</td>\n",
       "      <td>Lithium Carbonate</td>\n",
       "      <td>9</td>\n",
       "      <td>0</td>\n",
       "      <td>9</td>\n",
       "      <td>8.07</td>\n",
       "    </tr>\n",
       "    <tr>\n",
       "      <td>2</td>\n",
       "      <td>2010-08-01</td>\n",
       "      <td>K82037</td>\n",
       "      <td>14Y</td>\n",
       "      <td>0402030K0</td>\n",
       "      <td>Lithium Carbonate</td>\n",
       "      <td>18</td>\n",
       "      <td>0</td>\n",
       "      <td>18</td>\n",
       "      <td>17.85</td>\n",
       "    </tr>\n",
       "    <tr>\n",
       "      <td>3</td>\n",
       "      <td>2010-08-01</td>\n",
       "      <td>P89026</td>\n",
       "      <td>01Y</td>\n",
       "      <td>0402030K0</td>\n",
       "      <td>Lithium Carbonate</td>\n",
       "      <td>18</td>\n",
       "      <td>0</td>\n",
       "      <td>18</td>\n",
       "      <td>12.97</td>\n",
       "    </tr>\n",
       "    <tr>\n",
       "      <td>4</td>\n",
       "      <td>2010-08-01</td>\n",
       "      <td>C82055</td>\n",
       "      <td>03W</td>\n",
       "      <td>0402030K0</td>\n",
       "      <td>Lithium Carbonate</td>\n",
       "      <td>12</td>\n",
       "      <td>0</td>\n",
       "      <td>12</td>\n",
       "      <td>18.98</td>\n",
       "    </tr>\n",
       "  </tbody>\n",
       "</table>\n",
       "</div>"
      ],
      "text/plain": [
       "       month practice  pct chemical_code           chemical  carbonate  \\\n",
       "0 2010-08-01   E83027  07M     0402030K0  Lithium Carbonate         11   \n",
       "1 2010-08-01   M85007  15E     0402030K0  Lithium Carbonate          9   \n",
       "2 2010-08-01   K82037  14Y     0402030K0  Lithium Carbonate         18   \n",
       "3 2010-08-01   P89026  01Y     0402030K0  Lithium Carbonate         18   \n",
       "4 2010-08-01   C82055  03W     0402030K0  Lithium Carbonate         12   \n",
       "\n",
       "   citrate  total_lithium  total_cost  \n",
       "0        0             11       13.55  \n",
       "1        0              9        8.07  \n",
       "2        0             18       17.85  \n",
       "3        0             18       12.97  \n",
       "4        0             12       18.98  "
      ]
     },
     "execution_count": 97,
     "metadata": {},
     "output_type": "execute_result"
    }
   ],
   "source": [
    "df_lithium['month'] = df_lithium['month'].astype('datetime64[ns]')\n",
    "df_lithium.head()"
   ]
  },
  {
   "cell_type": "code",
   "execution_count": 20,
   "metadata": {},
   "outputs": [
    {
     "data": {
      "text/plain": [
       "array(['Lithium Citrate', 'Lithium Carbonate'], dtype=object)"
      ]
     },
     "execution_count": 20,
     "metadata": {},
     "output_type": "execute_result"
    }
   ],
   "source": [
    "df_lithium[\"chemical\"].unique()#shows me the unique values within the chemical column"
   ]
  },
  {
   "cell_type": "code",
   "execution_count": 59,
   "metadata": {},
   "outputs": [
    {
     "data": {
      "text/plain": [
       "month               110\n",
       "practice           8022\n",
       "pct                 191\n",
       "chemical_code         2\n",
       "chemical              2\n",
       "carbonate           136\n",
       "citrate              35\n",
       "total_lithium       135\n",
       "total_cost       190738\n",
       "dtype: int64"
      ]
     },
     "execution_count": 59,
     "metadata": {},
     "output_type": "execute_result"
    }
   ],
   "source": [
    "df_lithium.nunique()"
   ]
  },
  {
   "cell_type": "code",
   "execution_count": 24,
   "metadata": {},
   "outputs": [
    {
     "data": {
      "text/html": [
       "<div>\n",
       "<style scoped>\n",
       "    .dataframe tbody tr th:only-of-type {\n",
       "        vertical-align: middle;\n",
       "    }\n",
       "\n",
       "    .dataframe tbody tr th {\n",
       "        vertical-align: top;\n",
       "    }\n",
       "\n",
       "    .dataframe thead th {\n",
       "        text-align: right;\n",
       "    }\n",
       "</style>\n",
       "<table border=\"1\" class=\"dataframe\">\n",
       "  <thead>\n",
       "    <tr style=\"text-align: right;\">\n",
       "      <th></th>\n",
       "      <th>month</th>\n",
       "      <th>practice</th>\n",
       "      <th>pct</th>\n",
       "      <th>chemical_code</th>\n",
       "      <th>chemical</th>\n",
       "      <th>carbonate</th>\n",
       "      <th>citrate</th>\n",
       "      <th>total_lithium</th>\n",
       "      <th>total_cost</th>\n",
       "    </tr>\n",
       "  </thead>\n",
       "  <tbody>\n",
       "    <tr>\n",
       "      <td>1</td>\n",
       "      <td>2010-08-01</td>\n",
       "      <td>C81095</td>\n",
       "      <td>15M</td>\n",
       "      <td>0402030K0</td>\n",
       "      <td>Lithium Carbonate</td>\n",
       "      <td>13</td>\n",
       "      <td>0</td>\n",
       "      <td>13</td>\n",
       "      <td>17.78</td>\n",
       "    </tr>\n",
       "    <tr>\n",
       "      <td>2</td>\n",
       "      <td>2010-08-01</td>\n",
       "      <td>C83023</td>\n",
       "      <td>04Q</td>\n",
       "      <td>0402030K0</td>\n",
       "      <td>Lithium Carbonate</td>\n",
       "      <td>14</td>\n",
       "      <td>0</td>\n",
       "      <td>14</td>\n",
       "      <td>23.63</td>\n",
       "    </tr>\n",
       "    <tr>\n",
       "      <td>3</td>\n",
       "      <td>2010-08-01</td>\n",
       "      <td>M87009</td>\n",
       "      <td>05C</td>\n",
       "      <td>0402030K0</td>\n",
       "      <td>Lithium Carbonate</td>\n",
       "      <td>12</td>\n",
       "      <td>0</td>\n",
       "      <td>12</td>\n",
       "      <td>24.61</td>\n",
       "    </tr>\n",
       "    <tr>\n",
       "      <td>4</td>\n",
       "      <td>2010-08-01</td>\n",
       "      <td>M92654</td>\n",
       "      <td>06A</td>\n",
       "      <td>0402030K0</td>\n",
       "      <td>Lithium Carbonate</td>\n",
       "      <td>3</td>\n",
       "      <td>0</td>\n",
       "      <td>3</td>\n",
       "      <td>3.28</td>\n",
       "    </tr>\n",
       "    <tr>\n",
       "      <td>5</td>\n",
       "      <td>2010-08-01</td>\n",
       "      <td>P84616</td>\n",
       "      <td>14L</td>\n",
       "      <td>0402030K0</td>\n",
       "      <td>Lithium Carbonate</td>\n",
       "      <td>15</td>\n",
       "      <td>0</td>\n",
       "      <td>15</td>\n",
       "      <td>11.30</td>\n",
       "    </tr>\n",
       "  </tbody>\n",
       "</table>\n",
       "</div>"
      ],
      "text/plain": [
       "       month practice  pct chemical_code           chemical  carbonate  \\\n",
       "1 2010-08-01   C81095  15M     0402030K0  Lithium Carbonate         13   \n",
       "2 2010-08-01   C83023  04Q     0402030K0  Lithium Carbonate         14   \n",
       "3 2010-08-01   M87009  05C     0402030K0  Lithium Carbonate         12   \n",
       "4 2010-08-01   M92654  06A     0402030K0  Lithium Carbonate          3   \n",
       "5 2010-08-01   P84616  14L     0402030K0  Lithium Carbonate         15   \n",
       "\n",
       "   citrate  total_lithium  total_cost  \n",
       "1        0             13       17.78  \n",
       "2        0             14       23.63  \n",
       "3        0             12       24.61  \n",
       "4        0              3        3.28  \n",
       "5        0             15       11.30  "
      ]
     },
     "execution_count": 24,
     "metadata": {},
     "output_type": "execute_result"
    }
   ],
   "source": [
    "df_carbonate = df_lithium.loc[df_lithium[\"chemical\"] == \"Lithium Carbonate\"]\n",
    "df_carbonate.head()"
   ]
  },
  {
   "cell_type": "code",
   "execution_count": 11,
   "metadata": {},
   "outputs": [
    {
     "data": {
      "text/html": [
       "<div>\n",
       "<style scoped>\n",
       "    .dataframe tbody tr th:only-of-type {\n",
       "        vertical-align: middle;\n",
       "    }\n",
       "\n",
       "    .dataframe tbody tr th {\n",
       "        vertical-align: top;\n",
       "    }\n",
       "\n",
       "    .dataframe thead th {\n",
       "        text-align: right;\n",
       "    }\n",
       "</style>\n",
       "<table border=\"1\" class=\"dataframe\">\n",
       "  <thead>\n",
       "    <tr style=\"text-align: right;\">\n",
       "      <th></th>\n",
       "      <th>month</th>\n",
       "      <th>practice</th>\n",
       "      <th>pct</th>\n",
       "      <th>chemical_code</th>\n",
       "      <th>chemical</th>\n",
       "      <th>carbonate</th>\n",
       "      <th>citrate</th>\n",
       "      <th>total_lithium</th>\n",
       "      <th>total_cost</th>\n",
       "    </tr>\n",
       "  </thead>\n",
       "  <tbody>\n",
       "    <tr>\n",
       "      <td>0</td>\n",
       "      <td>2010-08-01</td>\n",
       "      <td>K84002</td>\n",
       "      <td>10Q</td>\n",
       "      <td>0402030P0</td>\n",
       "      <td>Lithium Citrate</td>\n",
       "      <td>0</td>\n",
       "      <td>3</td>\n",
       "      <td>3</td>\n",
       "      <td>27.63</td>\n",
       "    </tr>\n",
       "    <tr>\n",
       "      <td>27</td>\n",
       "      <td>2010-08-01</td>\n",
       "      <td>B84006</td>\n",
       "      <td>02T</td>\n",
       "      <td>0402030P0</td>\n",
       "      <td>Lithium Citrate</td>\n",
       "      <td>0</td>\n",
       "      <td>3</td>\n",
       "      <td>3</td>\n",
       "      <td>62.70</td>\n",
       "    </tr>\n",
       "    <tr>\n",
       "      <td>70</td>\n",
       "      <td>2010-08-01</td>\n",
       "      <td>B86022</td>\n",
       "      <td>15F</td>\n",
       "      <td>0402030P0</td>\n",
       "      <td>Lithium Citrate</td>\n",
       "      <td>0</td>\n",
       "      <td>7</td>\n",
       "      <td>7</td>\n",
       "      <td>46.72</td>\n",
       "    </tr>\n",
       "    <tr>\n",
       "      <td>87</td>\n",
       "      <td>2010-08-01</td>\n",
       "      <td>L82026</td>\n",
       "      <td>11N</td>\n",
       "      <td>0402030P0</td>\n",
       "      <td>Lithium Citrate</td>\n",
       "      <td>0</td>\n",
       "      <td>1</td>\n",
       "      <td>1</td>\n",
       "      <td>2.09</td>\n",
       "    </tr>\n",
       "    <tr>\n",
       "      <td>98</td>\n",
       "      <td>2010-08-01</td>\n",
       "      <td>D81021</td>\n",
       "      <td>06H</td>\n",
       "      <td>0402030P0</td>\n",
       "      <td>Lithium Citrate</td>\n",
       "      <td>0</td>\n",
       "      <td>2</td>\n",
       "      <td>2</td>\n",
       "      <td>53.34</td>\n",
       "    </tr>\n",
       "  </tbody>\n",
       "</table>\n",
       "</div>"
      ],
      "text/plain": [
       "        month practice  pct chemical_code         chemical  carbonate  \\\n",
       "0  2010-08-01   K84002  10Q     0402030P0  Lithium Citrate          0   \n",
       "27 2010-08-01   B84006  02T     0402030P0  Lithium Citrate          0   \n",
       "70 2010-08-01   B86022  15F     0402030P0  Lithium Citrate          0   \n",
       "87 2010-08-01   L82026  11N     0402030P0  Lithium Citrate          0   \n",
       "98 2010-08-01   D81021  06H     0402030P0  Lithium Citrate          0   \n",
       "\n",
       "    citrate  total_lithium  total_cost  \n",
       "0         3              3       27.63  \n",
       "27        3              3       62.70  \n",
       "70        7              7       46.72  \n",
       "87        1              1        2.09  \n",
       "98        2              2       53.34  "
      ]
     },
     "execution_count": 11,
     "metadata": {},
     "output_type": "execute_result"
    }
   ],
   "source": [
    "df_citrate = df_lithium.loc[df_lithium[\"chemical\"] == \"Lithium Citrate\"]\n",
    "df_citrate.head()"
   ]
  },
  {
   "cell_type": "code",
   "execution_count": 13,
   "metadata": {},
   "outputs": [
    {
     "data": {
      "text/html": [
       "<div>\n",
       "<style scoped>\n",
       "    .dataframe tbody tr th:only-of-type {\n",
       "        vertical-align: middle;\n",
       "    }\n",
       "\n",
       "    .dataframe tbody tr th {\n",
       "        vertical-align: top;\n",
       "    }\n",
       "\n",
       "    .dataframe thead th {\n",
       "        text-align: right;\n",
       "    }\n",
       "</style>\n",
       "<table border=\"1\" class=\"dataframe\">\n",
       "  <thead>\n",
       "    <tr style=\"text-align: right;\">\n",
       "      <th></th>\n",
       "      <th>pct</th>\n",
       "      <th>month</th>\n",
       "      <th>carbonate</th>\n",
       "      <th>citrate</th>\n",
       "      <th>total_lithium</th>\n",
       "      <th>total_cost</th>\n",
       "      <th>measure_count</th>\n",
       "    </tr>\n",
       "  </thead>\n",
       "  <tbody>\n",
       "    <tr>\n",
       "      <td>0</td>\n",
       "      <td>00C</td>\n",
       "      <td>2010-08-01</td>\n",
       "      <td>329</td>\n",
       "      <td>4</td>\n",
       "      <td>333</td>\n",
       "      <td>285.47</td>\n",
       "      <td>333</td>\n",
       "    </tr>\n",
       "    <tr>\n",
       "      <td>1</td>\n",
       "      <td>00C</td>\n",
       "      <td>2010-09-01</td>\n",
       "      <td>354</td>\n",
       "      <td>1</td>\n",
       "      <td>355</td>\n",
       "      <td>257.35</td>\n",
       "      <td>355</td>\n",
       "    </tr>\n",
       "    <tr>\n",
       "      <td>2</td>\n",
       "      <td>00C</td>\n",
       "      <td>2010-10-01</td>\n",
       "      <td>315</td>\n",
       "      <td>5</td>\n",
       "      <td>320</td>\n",
       "      <td>282.27</td>\n",
       "      <td>320</td>\n",
       "    </tr>\n",
       "    <tr>\n",
       "      <td>3</td>\n",
       "      <td>00C</td>\n",
       "      <td>2010-11-01</td>\n",
       "      <td>302</td>\n",
       "      <td>1</td>\n",
       "      <td>303</td>\n",
       "      <td>238.85</td>\n",
       "      <td>303</td>\n",
       "    </tr>\n",
       "    <tr>\n",
       "      <td>4</td>\n",
       "      <td>00C</td>\n",
       "      <td>2010-12-01</td>\n",
       "      <td>325</td>\n",
       "      <td>4</td>\n",
       "      <td>329</td>\n",
       "      <td>275.83</td>\n",
       "      <td>329</td>\n",
       "    </tr>\n",
       "  </tbody>\n",
       "</table>\n",
       "</div>"
      ],
      "text/plain": [
       "   pct      month  carbonate  citrate  total_lithium  total_cost  \\\n",
       "0  00C 2010-08-01        329        4            333      285.47   \n",
       "1  00C 2010-09-01        354        1            355      257.35   \n",
       "2  00C 2010-10-01        315        5            320      282.27   \n",
       "3  00C 2010-11-01        302        1            303      238.85   \n",
       "4  00C 2010-12-01        325        4            329      275.83   \n",
       "\n",
       "   measure_count  \n",
       "0            333  \n",
       "1            355  \n",
       "2            320  \n",
       "3            303  \n",
       "4            329  "
      ]
     },
     "execution_count": 13,
     "metadata": {},
     "output_type": "execute_result"
    }
   ],
   "source": [
    "ccg_lithium_totalcount = df_lithium_totalcount.groupby([\"pct\", \"month\"], as_index=False).sum()\n",
    "ccg_lithium_totalcount.head()"
   ]
  },
  {
   "cell_type": "markdown",
   "metadata": {},
   "source": [
    "### Display total no. of items dispensed per year"
   ]
  },
  {
   "cell_type": "code",
   "execution_count": 116,
   "metadata": {},
   "outputs": [
    {
     "data": {
      "image/png": "[encoded data removed]",
      "text/plain": [
       "<Figure size 432x288 with 1 Axes>"
      ]
     },
     "metadata": {},
     "output_type": "display_data"
    }
   ],
   "source": [
    "plot1 = df_lithium.groupby(\"month\").sum().plot(kind='line', title=\"Total number items of lithium\")"
   ]
  },
  {
   "cell_type": "code",
   "execution_count": 46,
   "metadata": {},
   "outputs": [
    {
     "data": {
      "text/plain": [
       "<matplotlib.axes._subplots.AxesSubplot at 0x1a2d7f7090>"
      ]
     },
     "execution_count": 46,
     "metadata": {},
     "output_type": "execute_result"
    },
    {
     "data": {
      "image/png": "[encoded data removed]",
      "text/plain": [
       "<Figure size 432x288 with 1 Axes>"
      ]
     },
     "metadata": {
      "needs_background": "light"
     },
     "output_type": "display_data"
    }
   ],
   "source": [
    "df_lithium.groupby(\"month\")['total_lithium'].sum().plot(kind='line', title=\"Total number items of lithium\")"
   ]
  },
  {
   "cell_type": "code",
   "execution_count": 102,
   "metadata": {},
   "outputs": [
    {
     "data": {
      "text/plain": [
       "<matplotlib.axes._subplots.AxesSubplot at 0x1a48c0af90>"
      ]
     },
     "execution_count": 102,
     "metadata": {},
     "output_type": "execute_result"
    },
    {
     "data": {
      "image/png": "[encoded data removed]",
      "text/plain": [
       "<Figure size 432x288 with 1 Axes>"
      ]
     },
     "metadata": {},
     "output_type": "display_data"
    }
   ],
   "source": [
    "df_lithium.groupby(\"month\")['carbonate'].sum().plot(kind='line', title='Total number of items of lithium carbonate')"
   ]
  },
  {
   "cell_type": "code",
   "execution_count": 49,
   "metadata": {},
   "outputs": [
    {
     "data": {
      "text/plain": [
       "<matplotlib.axes._subplots.AxesSubplot at 0x1a2cfaf3d0>"
      ]
     },
     "execution_count": 49,
     "metadata": {},
     "output_type": "execute_result"
    },
    {
     "data": {
      "image/png": "[encoded data removed]",
      "text/plain": [
       "<Figure size 432x288 with 1 Axes>"
      ]
     },
     "metadata": {
      "needs_background": "light"
     },
     "output_type": "display_data"
    }
   ],
   "source": [
    "df_lithium.groupby(\"month\")[\"citrate\"].sum().plot(kind='line', title='Total number of items of lithium citrate')"
   ]
  },
  {
   "cell_type": "code",
   "execution_count": 60,
   "metadata": {},
   "outputs": [
    {
     "name": "stderr",
     "output_type": "stream",
     "text": [
      "Downloading: 100%|██████████| 13398/13398 [00:00<00:00, 17829.60rows/s]\n"
     ]
    },
    {
     "data": {
      "text/html": [
       "<div>\n",
       "<style scoped>\n",
       "    .dataframe tbody tr th:only-of-type {\n",
       "        vertical-align: middle;\n",
       "    }\n",
       "\n",
       "    .dataframe tbody tr th {\n",
       "        vertical-align: top;\n",
       "    }\n",
       "\n",
       "    .dataframe thead th {\n",
       "        text-align: right;\n",
       "    }\n",
       "</style>\n",
       "<table border=\"1\" class=\"dataframe\">\n",
       "  <thead>\n",
       "    <tr style=\"text-align: right;\">\n",
       "      <th></th>\n",
       "      <th>month</th>\n",
       "      <th>pct</th>\n",
       "      <th>list_size</th>\n",
       "    </tr>\n",
       "  </thead>\n",
       "  <tbody>\n",
       "    <tr>\n",
       "      <td>0</td>\n",
       "      <td>2014-10-01</td>\n",
       "      <td>None</td>\n",
       "      <td>0.000000</td>\n",
       "    </tr>\n",
       "    <tr>\n",
       "      <td>1</td>\n",
       "      <td>2014-10-01</td>\n",
       "      <td>00C</td>\n",
       "      <td>7616.000000</td>\n",
       "    </tr>\n",
       "    <tr>\n",
       "      <td>2</td>\n",
       "      <td>2014-10-01</td>\n",
       "      <td>00D</td>\n",
       "      <td>5662.509804</td>\n",
       "    </tr>\n",
       "    <tr>\n",
       "      <td>3</td>\n",
       "      <td>2014-10-01</td>\n",
       "      <td>00F</td>\n",
       "      <td>6102.176471</td>\n",
       "    </tr>\n",
       "    <tr>\n",
       "      <td>4</td>\n",
       "      <td>2014-10-01</td>\n",
       "      <td>00G</td>\n",
       "      <td>8058.750000</td>\n",
       "    </tr>\n",
       "  </tbody>\n",
       "</table>\n",
       "</div>"
      ],
      "text/plain": [
       "       month   pct    list_size\n",
       "0 2014-10-01  None     0.000000\n",
       "1 2014-10-01   00C  7616.000000\n",
       "2 2014-10-01   00D  5662.509804\n",
       "3 2014-10-01   00F  6102.176471\n",
       "4 2014-10-01   00G  8058.750000"
      ]
     },
     "execution_count": 60,
     "metadata": {},
     "output_type": "execute_result"
    }
   ],
   "source": [
    "##get list size info\n",
    "sql2 = \"\"\"\n",
    "SELECT month, \n",
    "pct_id AS pct,\n",
    "AVG(total_list_size) AS list_size\n",
    "FROM ebmdatalab.hscic.practice_statistics\n",
    "group by \n",
    "month, pct\n",
    "order by\n",
    "month, pct,\n",
    "list_size\n",
    "\"\"\"\n",
    "df_list = bq.cached_read(sql2, csv_path='df_list.csv')\n",
    "df_list['month'] = df_list['month'].astype('datetime64[ns]')\n",
    "df_list.head(5)"
   ]
  },
  {
   "cell_type": "code",
   "execution_count": 63,
   "metadata": {},
   "outputs": [
    {
     "data": {
      "text/html": [
       "<div>\n",
       "<style scoped>\n",
       "    .dataframe tbody tr th:only-of-type {\n",
       "        vertical-align: middle;\n",
       "    }\n",
       "\n",
       "    .dataframe tbody tr th {\n",
       "        vertical-align: top;\n",
       "    }\n",
       "\n",
       "    .dataframe thead th {\n",
       "        text-align: right;\n",
       "    }\n",
       "</style>\n",
       "<table border=\"1\" class=\"dataframe\">\n",
       "  <thead>\n",
       "    <tr style=\"text-align: right;\">\n",
       "      <th></th>\n",
       "      <th>month</th>\n",
       "      <th>pct</th>\n",
       "      <th>total_lithium</th>\n",
       "    </tr>\n",
       "  </thead>\n",
       "  <tbody>\n",
       "    <tr>\n",
       "      <td>0</td>\n",
       "      <td>2010-08-01</td>\n",
       "      <td>00C</td>\n",
       "      <td>333</td>\n",
       "    </tr>\n",
       "    <tr>\n",
       "      <td>1</td>\n",
       "      <td>2010-08-01</td>\n",
       "      <td>00D</td>\n",
       "      <td>496</td>\n",
       "    </tr>\n",
       "    <tr>\n",
       "      <td>2</td>\n",
       "      <td>2010-08-01</td>\n",
       "      <td>00J</td>\n",
       "      <td>456</td>\n",
       "    </tr>\n",
       "    <tr>\n",
       "      <td>3</td>\n",
       "      <td>2010-08-01</td>\n",
       "      <td>00K</td>\n",
       "      <td>295</td>\n",
       "    </tr>\n",
       "    <tr>\n",
       "      <td>4</td>\n",
       "      <td>2010-08-01</td>\n",
       "      <td>00L</td>\n",
       "      <td>595</td>\n",
       "    </tr>\n",
       "  </tbody>\n",
       "</table>\n",
       "</div>"
      ],
      "text/plain": [
       "       month  pct  total_lithium\n",
       "0 2010-08-01  00C            333\n",
       "1 2010-08-01  00D            496\n",
       "2 2010-08-01  00J            456\n",
       "3 2010-08-01  00K            295\n",
       "4 2010-08-01  00L            595"
      ]
     },
     "execution_count": 63,
     "metadata": {},
     "output_type": "execute_result"
    }
   ],
   "source": [
    "ccg_lithium_count = df_lithium.groupby([\"month\", \"pct\"])[\"total_lithium\"].sum().reset_index()\n",
    "ccg_lithium_count.head()"
   ]
  },
  {
   "cell_type": "code",
   "execution_count": 104,
   "metadata": {},
   "outputs": [
    {
     "data": {
      "text/html": [
       "<div>\n",
       "<style scoped>\n",
       "    .dataframe tbody tr th:only-of-type {\n",
       "        vertical-align: middle;\n",
       "    }\n",
       "\n",
       "    .dataframe tbody tr th {\n",
       "        vertical-align: top;\n",
       "    }\n",
       "\n",
       "    .dataframe thead th {\n",
       "        text-align: right;\n",
       "    }\n",
       "</style>\n",
       "<table border=\"1\" class=\"dataframe\">\n",
       "  <thead>\n",
       "    <tr style=\"text-align: right;\">\n",
       "      <th></th>\n",
       "      <th>month</th>\n",
       "      <th>pct</th>\n",
       "      <th>total_lithium</th>\n",
       "      <th>list_size</th>\n",
       "      <th>items_per_1000</th>\n",
       "    </tr>\n",
       "  </thead>\n",
       "  <tbody>\n",
       "    <tr>\n",
       "      <td>0</td>\n",
       "      <td>2014-10-01</td>\n",
       "      <td>00C</td>\n",
       "      <td>381</td>\n",
       "      <td>7616.000000</td>\n",
       "      <td>50.0</td>\n",
       "    </tr>\n",
       "    <tr>\n",
       "      <td>1</td>\n",
       "      <td>2014-10-01</td>\n",
       "      <td>00D</td>\n",
       "      <td>639</td>\n",
       "      <td>5662.509804</td>\n",
       "      <td>113.0</td>\n",
       "    </tr>\n",
       "    <tr>\n",
       "      <td>2</td>\n",
       "      <td>2014-10-01</td>\n",
       "      <td>00J</td>\n",
       "      <td>607</td>\n",
       "      <td>6094.536585</td>\n",
       "      <td>100.0</td>\n",
       "    </tr>\n",
       "    <tr>\n",
       "      <td>3</td>\n",
       "      <td>2014-10-01</td>\n",
       "      <td>00K</td>\n",
       "      <td>310</td>\n",
       "      <td>6354.130435</td>\n",
       "      <td>49.0</td>\n",
       "    </tr>\n",
       "    <tr>\n",
       "      <td>4</td>\n",
       "      <td>2014-10-01</td>\n",
       "      <td>00L</td>\n",
       "      <td>728</td>\n",
       "      <td>6852.085106</td>\n",
       "      <td>106.0</td>\n",
       "    </tr>\n",
       "  </tbody>\n",
       "</table>\n",
       "</div>"
      ],
      "text/plain": [
       "       month  pct  total_lithium    list_size  items_per_1000\n",
       "0 2014-10-01  00C            381  7616.000000            50.0\n",
       "1 2014-10-01  00D            639  5662.509804           113.0\n",
       "2 2014-10-01  00J            607  6094.536585           100.0\n",
       "3 2014-10-01  00K            310  6354.130435            49.0\n",
       "4 2014-10-01  00L            728  6852.085106           106.0"
      ]
     },
     "execution_count": 104,
     "metadata": {},
     "output_type": "execute_result"
    }
   ],
   "source": [
    "#merge dataframes to show items per 1000\n",
    "\n",
    "df_lithium_per1000 = pd.merge(ccg_lithium_count, df_list, on=['month', 'pct'])\n",
    "df_lithium_per1000['items_per_1000'] = round(1000* (df_lithium_per1000['total_lithium']/df_lithium_per1000['list_size']),0)\n",
    "df_lithium_per1000.head()"
   ]
  },
  {
   "cell_type": "code",
   "execution_count": 115,
   "metadata": {},
   "outputs": [
    {
     "ename": "IndexError",
     "evalue": "index 1626 is out of bounds for size 1620",
     "output_type": "error",
     "traceback": [
      "\u001b[0;31m---------------------------------------------------------------------------\u001b[0m",
      "\u001b[0;31mIndexError\u001b[0m                                Traceback (most recent call last)",
      "\u001b[0;32m<ipython-input-115-13108f73e9f5>\u001b[0m in \u001b[0;36m<module>\u001b[0;34m\u001b[0m\n\u001b[1;32m      8\u001b[0m         \u001b[0mylabel\u001b[0m\u001b[0;34m=\u001b[0m\u001b[0;34m'Items per 1000'\u001b[0m\u001b[0;34m,\u001b[0m\u001b[0;34m\u001b[0m\u001b[0;34m\u001b[0m\u001b[0m\n\u001b[1;32m      9\u001b[0m         \u001b[0mshow_outer_percentiles\u001b[0m\u001b[0;34m=\u001b[0m\u001b[0;32mTrue\u001b[0m\u001b[0;34m,\u001b[0m\u001b[0;34m\u001b[0m\u001b[0;34m\u001b[0m\u001b[0m\n\u001b[0;32m---> 10\u001b[0;31m         \u001b[0mshow_legend\u001b[0m\u001b[0;34m=\u001b[0m\u001b[0;32mFalse\u001b[0m\u001b[0;34m,\u001b[0m\u001b[0;34m\u001b[0m\u001b[0;34m\u001b[0m\u001b[0m\n\u001b[0m\u001b[1;32m     11\u001b[0m )\n\u001b[1;32m     12\u001b[0m \u001b[0;34m\u001b[0m\u001b[0m\n",
      "\u001b[0;32m/opt/anaconda3/lib/python3.7/site-packages/ebmdatalab/charts.py\u001b[0m in \u001b[0;36mdeciles_chart\u001b[0;34m(df, period_column, column, title, ylabel, show_outer_percentiles, show_legend, ax)\u001b[0m\n\u001b[1;32m     58\u001b[0m         \u001b[0mperiod_column\u001b[0m\u001b[0;34m=\u001b[0m\u001b[0mperiod_column\u001b[0m\u001b[0;34m,\u001b[0m\u001b[0;34m\u001b[0m\u001b[0;34m\u001b[0m\u001b[0m\n\u001b[1;32m     59\u001b[0m         \u001b[0mcolumn\u001b[0m\u001b[0;34m=\u001b[0m\u001b[0mcolumn\u001b[0m\u001b[0;34m,\u001b[0m\u001b[0;34m\u001b[0m\u001b[0;34m\u001b[0m\u001b[0m\n\u001b[0;32m---> 60\u001b[0;31m         \u001b[0mshow_outer_percentiles\u001b[0m\u001b[0;34m=\u001b[0m\u001b[0mshow_outer_percentiles\u001b[0m\u001b[0;34m,\u001b[0m\u001b[0;34m\u001b[0m\u001b[0;34m\u001b[0m\u001b[0m\n\u001b[0m\u001b[1;32m     61\u001b[0m     )\n\u001b[1;32m     62\u001b[0m     linestyles = {\n",
      "\u001b[0;32m/opt/anaconda3/lib/python3.7/site-packages/ebmdatalab/charts.py\u001b[0m in \u001b[0;36madd_percentiles\u001b[0;34m(df, period_column, column, show_outer_percentiles)\u001b[0m\n\u001b[1;32m     32\u001b[0m     \u001b[0;32melse\u001b[0m\u001b[0;34m:\u001b[0m\u001b[0;34m\u001b[0m\u001b[0;34m\u001b[0m\u001b[0m\n\u001b[1;32m     33\u001b[0m         \u001b[0mquantiles\u001b[0m \u001b[0;34m=\u001b[0m \u001b[0mdeciles\u001b[0m\u001b[0;34m\u001b[0m\u001b[0;34m\u001b[0m\u001b[0m\n\u001b[0;32m---> 34\u001b[0;31m     \u001b[0mdf\u001b[0m \u001b[0;34m=\u001b[0m \u001b[0mdf\u001b[0m\u001b[0;34m.\u001b[0m\u001b[0mgroupby\u001b[0m\u001b[0;34m(\u001b[0m\u001b[0mperiod_column\u001b[0m\u001b[0;34m)\u001b[0m\u001b[0;34m[\u001b[0m\u001b[0mcolumn\u001b[0m\u001b[0;34m]\u001b[0m\u001b[0;34m.\u001b[0m\u001b[0mquantile\u001b[0m\u001b[0;34m(\u001b[0m\u001b[0mquantiles\u001b[0m\u001b[0;34m)\u001b[0m\u001b[0;34m.\u001b[0m\u001b[0mreset_index\u001b[0m\u001b[0;34m(\u001b[0m\u001b[0;34m)\u001b[0m\u001b[0;34m\u001b[0m\u001b[0;34m\u001b[0m\u001b[0m\n\u001b[0m\u001b[1;32m     35\u001b[0m     \u001b[0mdf\u001b[0m \u001b[0;34m=\u001b[0m \u001b[0mdf\u001b[0m\u001b[0;34m.\u001b[0m\u001b[0mrename\u001b[0m\u001b[0;34m(\u001b[0m\u001b[0mindex\u001b[0m\u001b[0;34m=\u001b[0m\u001b[0mstr\u001b[0m\u001b[0;34m,\u001b[0m \u001b[0mcolumns\u001b[0m\u001b[0;34m=\u001b[0m\u001b[0;34m{\u001b[0m\u001b[0;34m\"level_1\"\u001b[0m\u001b[0;34m:\u001b[0m \u001b[0;34m\"percentile\"\u001b[0m\u001b[0;34m}\u001b[0m\u001b[0;34m)\u001b[0m\u001b[0;34m\u001b[0m\u001b[0;34m\u001b[0m\u001b[0m\n\u001b[1;32m     36\u001b[0m     \u001b[0;31m# create integer range of percentiles\u001b[0m\u001b[0;34m\u001b[0m\u001b[0;34m\u001b[0m\u001b[0;34m\u001b[0m\u001b[0m\n",
      "\u001b[0;32m/opt/anaconda3/lib/python3.7/site-packages/pandas/core/groupby/groupby.py\u001b[0m in \u001b[0;36mquantile\u001b[0;34m(self, q, interpolation)\u001b[0m\n\u001b[1;32m   1951\u001b[0m             \u001b[0mindices\u001b[0m \u001b[0;34m=\u001b[0m \u001b[0mnp\u001b[0m\u001b[0;34m.\u001b[0m\u001b[0mconcatenate\u001b[0m\u001b[0;34m(\u001b[0m\u001b[0marrays\u001b[0m\u001b[0;34m)\u001b[0m\u001b[0;34m\u001b[0m\u001b[0;34m\u001b[0m\u001b[0m\n\u001b[1;32m   1952\u001b[0m             \u001b[0;32massert\u001b[0m \u001b[0mlen\u001b[0m\u001b[0;34m(\u001b[0m\u001b[0mindices\u001b[0m\u001b[0;34m)\u001b[0m \u001b[0;34m==\u001b[0m \u001b[0mlen\u001b[0m\u001b[0;34m(\u001b[0m\u001b[0mresult\u001b[0m\u001b[0;34m)\u001b[0m\u001b[0;34m\u001b[0m\u001b[0;34m\u001b[0m\u001b[0m\n\u001b[0;32m-> 1953\u001b[0;31m             \u001b[0;32mreturn\u001b[0m \u001b[0mresult\u001b[0m\u001b[0;34m.\u001b[0m\u001b[0mtake\u001b[0m\u001b[0;34m(\u001b[0m\u001b[0mindices\u001b[0m\u001b[0;34m)\u001b[0m\u001b[0;34m\u001b[0m\u001b[0;34m\u001b[0m\u001b[0m\n\u001b[0m\u001b[1;32m   1954\u001b[0m \u001b[0;34m\u001b[0m\u001b[0m\n\u001b[1;32m   1955\u001b[0m     \u001b[0;34m@\u001b[0m\u001b[0mSubstitution\u001b[0m\u001b[0;34m(\u001b[0m\u001b[0mname\u001b[0m\u001b[0;34m=\u001b[0m\u001b[0;34m\"groupby\"\u001b[0m\u001b[0;34m)\u001b[0m\u001b[0;34m\u001b[0m\u001b[0;34m\u001b[0m\u001b[0m\n",
      "\u001b[0;32m/opt/anaconda3/lib/python3.7/site-packages/pandas/core/series.py\u001b[0m in \u001b[0;36mtake\u001b[0;34m(self, indices, axis, is_copy, **kwargs)\u001b[0m\n\u001b[1;32m   4430\u001b[0m \u001b[0;34m\u001b[0m\u001b[0m\n\u001b[1;32m   4431\u001b[0m         \u001b[0mindices\u001b[0m \u001b[0;34m=\u001b[0m \u001b[0mensure_platform_int\u001b[0m\u001b[0;34m(\u001b[0m\u001b[0mindices\u001b[0m\u001b[0;34m)\u001b[0m\u001b[0;34m\u001b[0m\u001b[0;34m\u001b[0m\u001b[0m\n\u001b[0;32m-> 4432\u001b[0;31m         \u001b[0mnew_index\u001b[0m \u001b[0;34m=\u001b[0m \u001b[0mself\u001b[0m\u001b[0;34m.\u001b[0m\u001b[0mindex\u001b[0m\u001b[0;34m.\u001b[0m\u001b[0mtake\u001b[0m\u001b[0;34m(\u001b[0m\u001b[0mindices\u001b[0m\u001b[0;34m)\u001b[0m\u001b[0;34m\u001b[0m\u001b[0;34m\u001b[0m\u001b[0m\n\u001b[0m\u001b[1;32m   4433\u001b[0m \u001b[0;34m\u001b[0m\u001b[0m\n\u001b[1;32m   4434\u001b[0m         \u001b[0;32mif\u001b[0m \u001b[0mis_categorical_dtype\u001b[0m\u001b[0;34m(\u001b[0m\u001b[0mself\u001b[0m\u001b[0;34m)\u001b[0m\u001b[0;34m:\u001b[0m\u001b[0;34m\u001b[0m\u001b[0;34m\u001b[0m\u001b[0m\n",
      "\u001b[0;32m/opt/anaconda3/lib/python3.7/site-packages/pandas/core/indexes/multi.py\u001b[0m in \u001b[0;36mtake\u001b[0;34m(self, indices, axis, allow_fill, fill_value, **kwargs)\u001b[0m\n\u001b[1;32m   2030\u001b[0m             \u001b[0mallow_fill\u001b[0m\u001b[0;34m=\u001b[0m\u001b[0mallow_fill\u001b[0m\u001b[0;34m,\u001b[0m\u001b[0;34m\u001b[0m\u001b[0;34m\u001b[0m\u001b[0m\n\u001b[1;32m   2031\u001b[0m             \u001b[0mfill_value\u001b[0m\u001b[0;34m=\u001b[0m\u001b[0mfill_value\u001b[0m\u001b[0;34m,\u001b[0m\u001b[0;34m\u001b[0m\u001b[0;34m\u001b[0m\u001b[0m\n\u001b[0;32m-> 2032\u001b[0;31m             \u001b[0mna_value\u001b[0m\u001b[0;34m=\u001b[0m\u001b[0;34m-\u001b[0m\u001b[0;36m1\u001b[0m\u001b[0;34m,\u001b[0m\u001b[0;34m\u001b[0m\u001b[0;34m\u001b[0m\u001b[0m\n\u001b[0m\u001b[1;32m   2033\u001b[0m         )\n\u001b[1;32m   2034\u001b[0m         return MultiIndex(\n",
      "\u001b[0;32m/opt/anaconda3/lib/python3.7/site-packages/pandas/core/indexes/multi.py\u001b[0m in \u001b[0;36m_assert_take_fillable\u001b[0;34m(self, values, indices, allow_fill, fill_value, na_value)\u001b[0m\n\u001b[1;32m   2058\u001b[0m                 \u001b[0mtaken\u001b[0m \u001b[0;34m=\u001b[0m \u001b[0mmasked\u001b[0m\u001b[0;34m\u001b[0m\u001b[0;34m\u001b[0m\u001b[0m\n\u001b[1;32m   2059\u001b[0m         \u001b[0;32melse\u001b[0m\u001b[0;34m:\u001b[0m\u001b[0;34m\u001b[0m\u001b[0;34m\u001b[0m\u001b[0m\n\u001b[0;32m-> 2060\u001b[0;31m             \u001b[0mtaken\u001b[0m \u001b[0;34m=\u001b[0m \u001b[0;34m[\u001b[0m\u001b[0mlab\u001b[0m\u001b[0;34m.\u001b[0m\u001b[0mtake\u001b[0m\u001b[0;34m(\u001b[0m\u001b[0mindices\u001b[0m\u001b[0;34m)\u001b[0m \u001b[0;32mfor\u001b[0m \u001b[0mlab\u001b[0m \u001b[0;32min\u001b[0m \u001b[0mself\u001b[0m\u001b[0;34m.\u001b[0m\u001b[0mcodes\u001b[0m\u001b[0;34m]\u001b[0m\u001b[0;34m\u001b[0m\u001b[0;34m\u001b[0m\u001b[0m\n\u001b[0m\u001b[1;32m   2061\u001b[0m         \u001b[0;32mreturn\u001b[0m \u001b[0mtaken\u001b[0m\u001b[0;34m\u001b[0m\u001b[0;34m\u001b[0m\u001b[0m\n\u001b[1;32m   2062\u001b[0m \u001b[0;34m\u001b[0m\u001b[0m\n",
      "\u001b[0;32m/opt/anaconda3/lib/python3.7/site-packages/pandas/core/indexes/multi.py\u001b[0m in \u001b[0;36m<listcomp>\u001b[0;34m(.0)\u001b[0m\n\u001b[1;32m   2058\u001b[0m                 \u001b[0mtaken\u001b[0m \u001b[0;34m=\u001b[0m \u001b[0mmasked\u001b[0m\u001b[0;34m\u001b[0m\u001b[0;34m\u001b[0m\u001b[0m\n\u001b[1;32m   2059\u001b[0m         \u001b[0;32melse\u001b[0m\u001b[0;34m:\u001b[0m\u001b[0;34m\u001b[0m\u001b[0;34m\u001b[0m\u001b[0m\n\u001b[0;32m-> 2060\u001b[0;31m             \u001b[0mtaken\u001b[0m \u001b[0;34m=\u001b[0m \u001b[0;34m[\u001b[0m\u001b[0mlab\u001b[0m\u001b[0;34m.\u001b[0m\u001b[0mtake\u001b[0m\u001b[0;34m(\u001b[0m\u001b[0mindices\u001b[0m\u001b[0;34m)\u001b[0m \u001b[0;32mfor\u001b[0m \u001b[0mlab\u001b[0m \u001b[0;32min\u001b[0m \u001b[0mself\u001b[0m\u001b[0;34m.\u001b[0m\u001b[0mcodes\u001b[0m\u001b[0;34m]\u001b[0m\u001b[0;34m\u001b[0m\u001b[0;34m\u001b[0m\u001b[0m\n\u001b[0m\u001b[1;32m   2061\u001b[0m         \u001b[0;32mreturn\u001b[0m \u001b[0mtaken\u001b[0m\u001b[0;34m\u001b[0m\u001b[0;34m\u001b[0m\u001b[0m\n\u001b[1;32m   2062\u001b[0m \u001b[0;34m\u001b[0m\u001b[0m\n",
      "\u001b[0;31mIndexError\u001b[0m: index 1626 is out of bounds for size 1620"
     ]
    },
    {
     "data": {
      "image/png": "[encoded data removed]",
      "text/plain": [
       "<Figure size 432x288 with 1 Axes>"
      ]
     },
     "metadata": {},
     "output_type": "display_data"
    }
   ],
   "source": [
    "#create sample deciles\n",
    "\n",
    "charts.deciles_chart(\n",
    "        df_lithium_per1000,\n",
    "        period_column='month',\n",
    "        column='items_per_1000',\n",
    "        title=\"Number of lithium items per CCG per 1000 patient\",\n",
    "        ylabel='Items per 1000',\n",
    "        show_outer_percentiles=True,\n",
    "        show_legend=False,\n",
    ")\n",
    "\n",
    "\n",
    "plt.show()"
   ]
  },
  {
   "cell_type": "markdown",
   "metadata": {},
   "source": [
    "### Describe lithium items prescribed by non-GP facilities in UK"
   ]
  },
  {
   "cell_type": "code",
   "execution_count": 98,
   "metadata": {},
   "outputs": [
    {
     "name": "stderr",
     "output_type": "stream",
     "text": [
      "Downloading: 100%|██████████| 806011/806011 [01:12<00:00, 11104.36rows/s]\n"
     ]
    }
   ],
   "source": [
    "sql3 = \"\"\"\n",
    "WITH\n",
    "bnf_tab AS (\n",
    "SELECT\n",
    "DISTINCT chemical,\n",
    "chemical_code\n",
    "FROM\n",
    "ebmdatalab.hscic.bnf )\n",
    "SELECT\n",
    "rx.month,\n",
    "rx.practice,\n",
    "rx.pct,\n",
    "SUBSTR(rx.bnf_code,1,9) AS chemical_code,\n",
    "chemical,\n",
    "sum(IF(rx.bnf_code LIKE \"0402030K0%\", items,0)) AS carbonate,\n",
    "sum(IF(rx.bnf_code LIKE \"0402030P0%\", items,0)) AS citrate,\n",
    "sum(items) AS total_lithium,\n",
    "sum(actual_cost) AS total_cost\n",
    "FROM\n",
    "hscic.normalised_prescribing_standard AS rx\n",
    "LEFT JOIN\n",
    "bnf_tab\n",
    "ON\n",
    "chemical_code =SUBSTR(rx.bnf_code,1,9)\n",
    "JOIN\n",
    "hscic.practices AS prac\n",
    "ON\n",
    "rx.practice = prac.code \n",
    "JOIN\n",
    "  hscic.ccgs AS ccgs\n",
    "ON\n",
    "rx.pct=ccgs.code\n",
    "WHERE\n",
    "  prac.setting !=4\n",
    "  AND (bnf_code LIKE \"0402030K0%\" OR ##carbonate\n",
    "  bnf_code LIKE \"0402030P0%\") ##citrate\n",
    "  AND\n",
    "ccgs.org_type='CCG'\n",
    "GROUP BY\n",
    "rx.month,\n",
    "rx.practice,\n",
    "rx.pct,\n",
    "chemical_code,\n",
    "chemical\n",
    "ORDER BY\n",
    "month\"\"\"\n",
    "\n",
    "df_nonGPlithium = bq.cached_read(sql, csv_path='nonGPlithium.csv')"
   ]
  },
  {
   "cell_type": "code",
   "execution_count": 100,
   "metadata": {},
   "outputs": [
    {
     "data": {
      "text/html": [
       "<div>\n",
       "<style scoped>\n",
       "    .dataframe tbody tr th:only-of-type {\n",
       "        vertical-align: middle;\n",
       "    }\n",
       "\n",
       "    .dataframe tbody tr th {\n",
       "        vertical-align: top;\n",
       "    }\n",
       "\n",
       "    .dataframe thead th {\n",
       "        text-align: right;\n",
       "    }\n",
       "</style>\n",
       "<table border=\"1\" class=\"dataframe\">\n",
       "  <thead>\n",
       "    <tr style=\"text-align: right;\">\n",
       "      <th></th>\n",
       "      <th>month</th>\n",
       "      <th>practice</th>\n",
       "      <th>pct</th>\n",
       "      <th>chemical_code</th>\n",
       "      <th>chemical</th>\n",
       "      <th>carbonate</th>\n",
       "      <th>citrate</th>\n",
       "      <th>total_lithium</th>\n",
       "      <th>total_cost</th>\n",
       "    </tr>\n",
       "  </thead>\n",
       "  <tbody>\n",
       "    <tr>\n",
       "      <td>0</td>\n",
       "      <td>2010-08-01</td>\n",
       "      <td>E83027</td>\n",
       "      <td>07M</td>\n",
       "      <td>0402030K0</td>\n",
       "      <td>Lithium Carbonate</td>\n",
       "      <td>11</td>\n",
       "      <td>0</td>\n",
       "      <td>11</td>\n",
       "      <td>13.55</td>\n",
       "    </tr>\n",
       "    <tr>\n",
       "      <td>1</td>\n",
       "      <td>2010-08-01</td>\n",
       "      <td>M85007</td>\n",
       "      <td>15E</td>\n",
       "      <td>0402030K0</td>\n",
       "      <td>Lithium Carbonate</td>\n",
       "      <td>9</td>\n",
       "      <td>0</td>\n",
       "      <td>9</td>\n",
       "      <td>8.07</td>\n",
       "    </tr>\n",
       "    <tr>\n",
       "      <td>2</td>\n",
       "      <td>2010-08-01</td>\n",
       "      <td>K82037</td>\n",
       "      <td>14Y</td>\n",
       "      <td>0402030K0</td>\n",
       "      <td>Lithium Carbonate</td>\n",
       "      <td>18</td>\n",
       "      <td>0</td>\n",
       "      <td>18</td>\n",
       "      <td>17.85</td>\n",
       "    </tr>\n",
       "    <tr>\n",
       "      <td>3</td>\n",
       "      <td>2010-08-01</td>\n",
       "      <td>P89026</td>\n",
       "      <td>01Y</td>\n",
       "      <td>0402030K0</td>\n",
       "      <td>Lithium Carbonate</td>\n",
       "      <td>18</td>\n",
       "      <td>0</td>\n",
       "      <td>18</td>\n",
       "      <td>12.97</td>\n",
       "    </tr>\n",
       "    <tr>\n",
       "      <td>4</td>\n",
       "      <td>2010-08-01</td>\n",
       "      <td>C82055</td>\n",
       "      <td>03W</td>\n",
       "      <td>0402030K0</td>\n",
       "      <td>Lithium Carbonate</td>\n",
       "      <td>12</td>\n",
       "      <td>0</td>\n",
       "      <td>12</td>\n",
       "      <td>18.98</td>\n",
       "    </tr>\n",
       "  </tbody>\n",
       "</table>\n",
       "</div>"
      ],
      "text/plain": [
       "       month practice  pct chemical_code           chemical  carbonate  \\\n",
       "0 2010-08-01   E83027  07M     0402030K0  Lithium Carbonate         11   \n",
       "1 2010-08-01   M85007  15E     0402030K0  Lithium Carbonate          9   \n",
       "2 2010-08-01   K82037  14Y     0402030K0  Lithium Carbonate         18   \n",
       "3 2010-08-01   P89026  01Y     0402030K0  Lithium Carbonate         18   \n",
       "4 2010-08-01   C82055  03W     0402030K0  Lithium Carbonate         12   \n",
       "\n",
       "   citrate  total_lithium  total_cost  \n",
       "0        0             11       13.55  \n",
       "1        0              9        8.07  \n",
       "2        0             18       17.85  \n",
       "3        0             18       12.97  \n",
       "4        0             12       18.98  "
      ]
     },
     "execution_count": 100,
     "metadata": {},
     "output_type": "execute_result"
    }
   ],
   "source": [
    "df_nonGPlithium['month'] = df_nonGPlithium['month'].astype('datetime64[ns]')\n",
    "df_nonGPlithium.head()"
   ]
  },
  {
   "cell_type": "code",
   "execution_count": 101,
   "metadata": {},
   "outputs": [
    {
     "data": {
      "text/plain": [
       "month               110\n",
       "practice           8022\n",
       "pct                 191\n",
       "chemical_code         2\n",
       "chemical              2\n",
       "carbonate           136\n",
       "citrate              35\n",
       "total_lithium       135\n",
       "total_cost       195064\n",
       "dtype: int64"
      ]
     },
     "execution_count": 101,
     "metadata": {},
     "output_type": "execute_result"
    }
   ],
   "source": [
    "df_nonGPlithium.nunique()"
   ]
  },
  {
   "cell_type": "code",
   "execution_count": 95,
   "metadata": {},
   "outputs": [
    {
     "data": {
      "text/html": [
       "<div>\n",
       "<style scoped>\n",
       "    .dataframe tbody tr th:only-of-type {\n",
       "        vertical-align: middle;\n",
       "    }\n",
       "\n",
       "    .dataframe tbody tr th {\n",
       "        vertical-align: top;\n",
       "    }\n",
       "\n",
       "    .dataframe thead th {\n",
       "        text-align: right;\n",
       "    }\n",
       "</style>\n",
       "<table border=\"1\" class=\"dataframe\">\n",
       "  <thead>\n",
       "    <tr style=\"text-align: right;\">\n",
       "      <th></th>\n",
       "      <th>code</th>\n",
       "      <th>name</th>\n",
       "      <th>postcode</th>\n",
       "      <th>status_code</th>\n",
       "      <th>ccg</th>\n",
       "      <th>setting</th>\n",
       "    </tr>\n",
       "  </thead>\n",
       "  <tbody>\n",
       "    <tr>\n",
       "      <td>0</td>\n",
       "      <td>month</td>\n",
       "      <td>practice</td>\n",
       "      <td>NaN</td>\n",
       "      <td>NaN</td>\n",
       "      <td>NaN</td>\n",
       "      <td>NaN</td>\n",
       "    </tr>\n",
       "    <tr>\n",
       "      <td>1</td>\n",
       "      <td>2010-08-01 00:00:00+00:00</td>\n",
       "      <td>E83027</td>\n",
       "      <td>NaN</td>\n",
       "      <td>NaN</td>\n",
       "      <td>NaN</td>\n",
       "      <td>NaN</td>\n",
       "    </tr>\n",
       "    <tr>\n",
       "      <td>2</td>\n",
       "      <td>2010-08-01 00:00:00+00:00</td>\n",
       "      <td>M85007</td>\n",
       "      <td>NaN</td>\n",
       "      <td>NaN</td>\n",
       "      <td>NaN</td>\n",
       "      <td>NaN</td>\n",
       "    </tr>\n",
       "    <tr>\n",
       "      <td>3</td>\n",
       "      <td>2010-08-01 00:00:00+00:00</td>\n",
       "      <td>K82037</td>\n",
       "      <td>NaN</td>\n",
       "      <td>NaN</td>\n",
       "      <td>NaN</td>\n",
       "      <td>NaN</td>\n",
       "    </tr>\n",
       "    <tr>\n",
       "      <td>4</td>\n",
       "      <td>2010-08-01 00:00:00+00:00</td>\n",
       "      <td>P89026</td>\n",
       "      <td>NaN</td>\n",
       "      <td>NaN</td>\n",
       "      <td>NaN</td>\n",
       "      <td>NaN</td>\n",
       "    </tr>\n",
       "  </tbody>\n",
       "</table>\n",
       "</div>"
      ],
      "text/plain": [
       "                        code      name postcode status_code  ccg setting\n",
       "0                      month  practice      NaN         NaN  NaN     NaN\n",
       "1  2010-08-01 00:00:00+00:00    E83027      NaN         NaN  NaN     NaN\n",
       "2  2010-08-01 00:00:00+00:00    M85007      NaN         NaN  NaN     NaN\n",
       "3  2010-08-01 00:00:00+00:00    K82037      NaN         NaN  NaN     NaN\n",
       "4  2010-08-01 00:00:00+00:00    P89026      NaN         NaN  NaN     NaN"
      ]
     },
     "execution_count": 95,
     "metadata": {},
     "output_type": "execute_result"
    }
   ],
   "source": [
    "headers = [\n",
    "    'code','name','postcode','status_code','ccg','setting']\n",
    "nonGPbreakdown = pd.read_csv(\"lithium.csv\", names=headers, usecols=[0,1,9,12,23,25])\n",
    "nonGPbreakdown.head()"
   ]
  },
  {
   "cell_type": "code",
   "execution_count": 120,
   "metadata": {},
   "outputs": [
    {
     "data": {
      "text/plain": [
       "matplotlib.axes._subplots.AxesSubplot"
      ]
     },
     "execution_count": 120,
     "metadata": {},
     "output_type": "execute_result"
    }
   ],
   "source": [
    "type(plot1)"
   ]
  },
  {
   "cell_type": "code",
   "execution_count": null,
   "metadata": {},
   "outputs": [],
   "source": []
  }
 ],
 "metadata": {
  "kernelspec": {
   "display_name": "Python 3",
   "language": "python",
   "name": "python3"
  },
  "language_info": {
   "codemirror_mode": {
    "name": "ipython",
    "version": 3
   },
   "file_extension": ".py",
   "mimetype": "text/x-python",
   "name": "python",
   "nbconvert_exporter": "python",
   "pygments_lexer": "ipython3",
   "version": "3.7.4"
  }
 },
 "nbformat": 4,
 "nbformat_minor": 2
}
