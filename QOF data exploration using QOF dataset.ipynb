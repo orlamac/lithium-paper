{
 "cells": [
  {
   "cell_type": "code",
   "execution_count": 1,
   "metadata": {},
   "outputs": [],
   "source": [
    "#import libraries required for analysis\n",
    "import pandas as pd\n",
    "import numpy as np\n",
    "import matplotlib\n",
    "import matplotlib.pyplot as plt\n",
    "import matplotlib.gridspec as gridspec\n",
    "import seaborn as sns\n",
    "\n",
    "from matplotlib.dates import DateFormatter\n",
    "from ebmdatalab import bq\n",
    "from ebmdatalab import charts\n",
    "from ebmdatalab import maps\n",
    "import matplotlib.gridspec as gridspec"
   ]
  },
  {
   "cell_type": "code",
   "execution_count": 2,
   "metadata": {},
   "outputs": [
    {
     "name": "stderr",
     "output_type": "stream",
     "text": [
      "Downloading: 100%|██████████| 28888/28888 [00:11<00:00, 2517.66rows/s]\n"
     ]
    }
   ],
   "source": [
    "sql = \"\"\"\n",
    "SELECT \n",
    "year, \n",
    "practice_id, \n",
    "indicator, \n",
    "denominator, \n",
    "exceptions\n",
    "\n",
    "FROM `ebmdatalab.qof.achievement` \n",
    "\n",
    "WHERE indicator = 'MH010' #The % of pts on lithium with a record of lithium levels in the therapeutic range in the preceding 4 months\n",
    "\n",
    "GROUP BY\n",
    "year, \n",
    "practice_id,\n",
    "indicator,\n",
    "denominator,\n",
    "exceptions\n",
    "\n",
    "ORDER BY\n",
    "year\n",
    "\n",
    "\"\"\"\n",
    "\n",
    "df_qof = bq.cached_read(sql, csv_path='df_qof.csv')"
   ]
  },
  {
   "cell_type": "code",
   "execution_count": 3,
   "metadata": {},
   "outputs": [
    {
     "data": {
      "text/html": [
       "<div>\n",
       "<style scoped>\n",
       "    .dataframe tbody tr th:only-of-type {\n",
       "        vertical-align: middle;\n",
       "    }\n",
       "\n",
       "    .dataframe tbody tr th {\n",
       "        vertical-align: top;\n",
       "    }\n",
       "\n",
       "    .dataframe thead th {\n",
       "        text-align: right;\n",
       "    }\n",
       "</style>\n",
       "<table border=\"1\" class=\"dataframe\">\n",
       "  <thead>\n",
       "    <tr style=\"text-align: right;\">\n",
       "      <th></th>\n",
       "      <th>year</th>\n",
       "      <th>practice_id</th>\n",
       "      <th>indicator</th>\n",
       "      <th>denominator</th>\n",
       "      <th>exceptions</th>\n",
       "    </tr>\n",
       "  </thead>\n",
       "  <tbody>\n",
       "    <tr>\n",
       "      <th>0</th>\n",
       "      <td>1516</td>\n",
       "      <td>E82613</td>\n",
       "      <td>MH010</td>\n",
       "      <td>0</td>\n",
       "      <td>NaN</td>\n",
       "    </tr>\n",
       "    <tr>\n",
       "      <th>1</th>\n",
       "      <td>1516</td>\n",
       "      <td>J82199</td>\n",
       "      <td>MH010</td>\n",
       "      <td>0</td>\n",
       "      <td>NaN</td>\n",
       "    </tr>\n",
       "    <tr>\n",
       "      <th>2</th>\n",
       "      <td>1516</td>\n",
       "      <td>Y04942</td>\n",
       "      <td>MH010</td>\n",
       "      <td>0</td>\n",
       "      <td>NaN</td>\n",
       "    </tr>\n",
       "    <tr>\n",
       "      <th>3</th>\n",
       "      <td>1516</td>\n",
       "      <td>Y05167</td>\n",
       "      <td>MH010</td>\n",
       "      <td>0</td>\n",
       "      <td>NaN</td>\n",
       "    </tr>\n",
       "    <tr>\n",
       "      <th>4</th>\n",
       "      <td>1516</td>\n",
       "      <td>E82630</td>\n",
       "      <td>MH010</td>\n",
       "      <td>1</td>\n",
       "      <td>NaN</td>\n",
       "    </tr>\n",
       "  </tbody>\n",
       "</table>\n",
       "</div>"
      ],
      "text/plain": [
       "   year practice_id indicator  denominator  exceptions\n",
       "0  1516      E82613     MH010            0         NaN\n",
       "1  1516      J82199     MH010            0         NaN\n",
       "2  1516      Y04942     MH010            0         NaN\n",
       "3  1516      Y05167     MH010            0         NaN\n",
       "4  1516      E82630     MH010            1         NaN"
      ]
     },
     "execution_count": 3,
     "metadata": {},
     "output_type": "execute_result"
    }
   ],
   "source": [
    "df_qof.head()"
   ]
  },
  {
   "cell_type": "code",
   "execution_count": 9,
   "metadata": {},
   "outputs": [
    {
     "data": {
      "text/html": [
       "<div>\n",
       "<style scoped>\n",
       "    .dataframe tbody tr th:only-of-type {\n",
       "        vertical-align: middle;\n",
       "    }\n",
       "\n",
       "    .dataframe tbody tr th {\n",
       "        vertical-align: top;\n",
       "    }\n",
       "\n",
       "    .dataframe thead th {\n",
       "        text-align: right;\n",
       "    }\n",
       "</style>\n",
       "<table border=\"1\" class=\"dataframe\">\n",
       "  <thead>\n",
       "    <tr style=\"text-align: right;\">\n",
       "      <th></th>\n",
       "      <th>year</th>\n",
       "      <th>practice_id</th>\n",
       "      <th>indicator</th>\n",
       "      <th>denominator</th>\n",
       "      <th>exceptions</th>\n",
       "      <th>totalpts</th>\n",
       "    </tr>\n",
       "  </thead>\n",
       "  <tbody>\n",
       "    <tr>\n",
       "      <th>28883</th>\n",
       "      <td>1819</td>\n",
       "      <td>J82155</td>\n",
       "      <td>MH010</td>\n",
       "      <td>39</td>\n",
       "      <td>7.0</td>\n",
       "      <td>46.0</td>\n",
       "    </tr>\n",
       "    <tr>\n",
       "      <th>28884</th>\n",
       "      <td>1819</td>\n",
       "      <td>H82034</td>\n",
       "      <td>MH010</td>\n",
       "      <td>17</td>\n",
       "      <td>8.0</td>\n",
       "      <td>25.0</td>\n",
       "    </tr>\n",
       "    <tr>\n",
       "      <th>28885</th>\n",
       "      <td>1819</td>\n",
       "      <td>G82021</td>\n",
       "      <td>MH010</td>\n",
       "      <td>4</td>\n",
       "      <td>9.0</td>\n",
       "      <td>13.0</td>\n",
       "    </tr>\n",
       "    <tr>\n",
       "      <th>28886</th>\n",
       "      <td>1819</td>\n",
       "      <td>N81029</td>\n",
       "      <td>MH010</td>\n",
       "      <td>14</td>\n",
       "      <td>9.0</td>\n",
       "      <td>23.0</td>\n",
       "    </tr>\n",
       "    <tr>\n",
       "      <th>28887</th>\n",
       "      <td>1819</td>\n",
       "      <td>M88004</td>\n",
       "      <td>MH010</td>\n",
       "      <td>23</td>\n",
       "      <td>10.0</td>\n",
       "      <td>33.0</td>\n",
       "    </tr>\n",
       "  </tbody>\n",
       "</table>\n",
       "</div>"
      ],
      "text/plain": [
       "       year practice_id indicator  denominator  exceptions  totalpts\n",
       "28883  1819      J82155     MH010           39         7.0      46.0\n",
       "28884  1819      H82034     MH010           17         8.0      25.0\n",
       "28885  1819      G82021     MH010            4         9.0      13.0\n",
       "28886  1819      N81029     MH010           14         9.0      23.0\n",
       "28887  1819      M88004     MH010           23        10.0      33.0"
      ]
     },
     "execution_count": 9,
     "metadata": {},
     "output_type": "execute_result"
    }
   ],
   "source": [
    "df_qof['totalpts'] = (df_qof['denominator'] + df_qof['exceptions'])\n",
    "df_qof.tail()"
   ]
  },
  {
   "cell_type": "code",
   "execution_count": 10,
   "metadata": {},
   "outputs": [
    {
     "data": {
      "text/html": [
       "<div>\n",
       "<style scoped>\n",
       "    .dataframe tbody tr th:only-of-type {\n",
       "        vertical-align: middle;\n",
       "    }\n",
       "\n",
       "    .dataframe tbody tr th {\n",
       "        vertical-align: top;\n",
       "    }\n",
       "\n",
       "    .dataframe thead th {\n",
       "        text-align: right;\n",
       "    }\n",
       "</style>\n",
       "<table border=\"1\" class=\"dataframe\">\n",
       "  <thead>\n",
       "    <tr style=\"text-align: right;\">\n",
       "      <th></th>\n",
       "      <th>denominator</th>\n",
       "      <th>exceptions</th>\n",
       "      <th>totalpts</th>\n",
       "    </tr>\n",
       "    <tr>\n",
       "      <th>year</th>\n",
       "      <th></th>\n",
       "      <th></th>\n",
       "      <th></th>\n",
       "    </tr>\n",
       "  </thead>\n",
       "  <tbody>\n",
       "    <tr>\n",
       "      <th>1516</th>\n",
       "      <td>43615</td>\n",
       "      <td>4568.0</td>\n",
       "      <td>48150.0</td>\n",
       "    </tr>\n",
       "    <tr>\n",
       "      <th>1617</th>\n",
       "      <td>42492</td>\n",
       "      <td>4343.0</td>\n",
       "      <td>46779.0</td>\n",
       "    </tr>\n",
       "    <tr>\n",
       "      <th>1718</th>\n",
       "      <td>41248</td>\n",
       "      <td>4228.0</td>\n",
       "      <td>45426.0</td>\n",
       "    </tr>\n",
       "    <tr>\n",
       "      <th>1819</th>\n",
       "      <td>40530</td>\n",
       "      <td>4138.0</td>\n",
       "      <td>44612.0</td>\n",
       "    </tr>\n",
       "  </tbody>\n",
       "</table>\n",
       "</div>"
      ],
      "text/plain": [
       "      denominator  exceptions  totalpts\n",
       "year                                   \n",
       "1516        43615      4568.0   48150.0\n",
       "1617        42492      4343.0   46779.0\n",
       "1718        41248      4228.0   45426.0\n",
       "1819        40530      4138.0   44612.0"
      ]
     },
     "execution_count": 10,
     "metadata": {},
     "output_type": "execute_result"
    }
   ],
   "source": [
    "df_qof.groupby('year').sum()"
   ]
  },
  {
   "cell_type": "code",
   "execution_count": 11,
   "metadata": {},
   "outputs": [
    {
     "data": {
      "text/plain": [
       "(20000, 50000)"
      ]
     },
     "execution_count": 11,
     "metadata": {},
     "output_type": "execute_result"
    },
    {
     "data": {
      "image/png": "[encoded data removed]",
      "text/plain": [
       "<Figure size 432x288 with 1 Axes>"
      ]
     },
     "metadata": {
      "needs_background": "light"
     },
     "output_type": "display_data"
    }
   ],
   "source": [
    "# Generate graph showing change in QOF patient numbers over time \n",
    "plot1 = df_qof.groupby(\"year\")['totalpts'].sum().plot(kind='bar', title=\"Total number of lithium patients recorded by QOF\")\n",
    "plt.ylim(20000, 50000)"
   ]
  },
  {
   "cell_type": "code",
   "execution_count": null,
   "metadata": {},
   "outputs": [],
   "source": []
  }
 ],
 "metadata": {
  "kernelspec": {
   "display_name": "Python 3",
   "language": "python",
   "name": "python3"
  },
  "language_info": {
   "codemirror_mode": {
    "name": "ipython",
    "version": 3
   },
   "file_extension": ".py",
   "mimetype": "text/x-python",
   "name": "python",
   "nbconvert_exporter": "python",
   "pygments_lexer": "ipython3",
   "version": "3.7.4"
  }
 },
 "nbformat": 4,
 "nbformat_minor": 2
}
